{
 "cells": [
  {
   "cell_type": "code",
   "execution_count": 1,
   "id": "e7e6b693",
   "metadata": {},
   "outputs": [],
   "source": [
    "import numpy as np\n",
    "import pandas as pd\n",
    "from sklearn.linear_model import LinearRegression\n",
    "from sklearn.preprocessing import PolynomialFeatures\n",
    "from sklearn.metrics import r2_score, mean_absolute_error, mean_squared_error\n",
    "import matplotlib.pyplot as plt"
   ]
  },
  {
   "cell_type": "code",
   "execution_count": 2,
   "id": "367a3106",
   "metadata": {},
   "outputs": [
    {
     "data": {
      "text/html": [
       "<div>\n",
       "<style scoped>\n",
       "    .dataframe tbody tr th:only-of-type {\n",
       "        vertical-align: middle;\n",
       "    }\n",
       "\n",
       "    .dataframe tbody tr th {\n",
       "        vertical-align: top;\n",
       "    }\n",
       "\n",
       "    .dataframe thead th {\n",
       "        text-align: right;\n",
       "    }\n",
       "</style>\n",
       "<table border=\"1\" class=\"dataframe\">\n",
       "  <thead>\n",
       "    <tr style=\"text-align: right;\">\n",
       "      <th></th>\n",
       "      <th>Promote</th>\n",
       "      <th>Sales</th>\n",
       "    </tr>\n",
       "  </thead>\n",
       "  <tbody>\n",
       "    <tr>\n",
       "      <th>0</th>\n",
       "      <td>23</td>\n",
       "      <td>554</td>\n",
       "    </tr>\n",
       "    <tr>\n",
       "      <th>1</th>\n",
       "      <td>56</td>\n",
       "      <td>1339</td>\n",
       "    </tr>\n",
       "    <tr>\n",
       "      <th>2</th>\n",
       "      <td>34</td>\n",
       "      <td>815</td>\n",
       "    </tr>\n",
       "    <tr>\n",
       "      <th>3</th>\n",
       "      <td>25</td>\n",
       "      <td>609</td>\n",
       "    </tr>\n",
       "    <tr>\n",
       "      <th>4</th>\n",
       "      <td>67</td>\n",
       "      <td>1600</td>\n",
       "    </tr>\n",
       "  </tbody>\n",
       "</table>\n",
       "</div>"
      ],
      "text/plain": [
       "   Promote  Sales\n",
       "0       23    554\n",
       "1       56   1339\n",
       "2       34    815\n",
       "3       25    609\n",
       "4       67   1600"
      ]
     },
     "execution_count": 2,
     "metadata": {},
     "output_type": "execute_result"
    }
   ],
   "source": [
    "pizza = pd.read_csv(\"pizza.csv\")\n",
    "pizza.head()"
   ]
  },
  {
   "cell_type": "code",
   "execution_count": 3,
   "id": "dfbae75f",
   "metadata": {},
   "outputs": [],
   "source": [
    "lr = LinearRegression()"
   ]
  },
  {
   "cell_type": "code",
   "execution_count": 4,
   "id": "02f43dbe",
   "metadata": {},
   "outputs": [],
   "source": [
    "x = pizza[['Promote']]\n",
    "y = pizza['Sales']"
   ]
  },
  {
   "cell_type": "code",
   "execution_count": 5,
   "id": "e5729d5a",
   "metadata": {},
   "outputs": [
    {
     "name": "stdout",
     "output_type": "stream",
     "text": [
      "['1' 'Promote' 'Promote^2']\n"
     ]
    }
   ],
   "source": [
    "poly = PolynomialFeatures(degree=2)\n",
    "x_poly = poly.fit_transform(x)\n",
    "print(poly.get_feature_names_out())"
   ]
  },
  {
   "cell_type": "code",
   "execution_count": 6,
   "id": "4c1989a3",
   "metadata": {},
   "outputs": [
    {
     "name": "stdout",
     "output_type": "stream",
     "text": [
      "-18.27491741665085\n",
      "[ 0.00000000e+00  2.48006959e+01 -1.30947333e-02]\n"
     ]
    }
   ],
   "source": [
    "lr.fit(x_poly,y)\n",
    "print(lr.intercept_)\n",
    "print(lr.coef_)"
   ]
  },
  {
   "cell_type": "code",
   "execution_count": 7,
   "id": "e54c61de",
   "metadata": {},
   "outputs": [],
   "source": [
    "y_pred = lr.predict(x_poly)"
   ]
  },
  {
   "cell_type": "code",
   "execution_count": 8,
   "id": "fd53b694",
   "metadata": {},
   "outputs": [
    {
     "name": "stdout",
     "output_type": "stream",
     "text": [
      "0.9889789184026645\n"
     ]
    }
   ],
   "source": [
    "print(r2_score(y,y_pred))"
   ]
  },
  {
   "cell_type": "code",
   "execution_count": 9,
   "id": "ef83b995",
   "metadata": {},
   "outputs": [
    {
     "data": {
      "text/html": [
       "<div>\n",
       "<style scoped>\n",
       "    .dataframe tbody tr th:only-of-type {\n",
       "        vertical-align: middle;\n",
       "    }\n",
       "\n",
       "    .dataframe tbody tr th {\n",
       "        vertical-align: top;\n",
       "    }\n",
       "\n",
       "    .dataframe thead th {\n",
       "        text-align: right;\n",
       "    }\n",
       "</style>\n",
       "<table border=\"1\" class=\"dataframe\">\n",
       "  <thead>\n",
       "    <tr style=\"text-align: right;\">\n",
       "      <th></th>\n",
       "      <th>crim</th>\n",
       "      <th>zn</th>\n",
       "      <th>indus</th>\n",
       "      <th>chas</th>\n",
       "      <th>nox</th>\n",
       "      <th>rm</th>\n",
       "      <th>age</th>\n",
       "      <th>dis</th>\n",
       "      <th>rad</th>\n",
       "      <th>tax</th>\n",
       "      <th>ptratio</th>\n",
       "      <th>black</th>\n",
       "      <th>lstat</th>\n",
       "      <th>medv</th>\n",
       "    </tr>\n",
       "  </thead>\n",
       "  <tbody>\n",
       "    <tr>\n",
       "      <th>0</th>\n",
       "      <td>0.00632</td>\n",
       "      <td>18.0</td>\n",
       "      <td>2.31</td>\n",
       "      <td>0</td>\n",
       "      <td>0.538</td>\n",
       "      <td>6.575</td>\n",
       "      <td>65.2</td>\n",
       "      <td>4.0900</td>\n",
       "      <td>1</td>\n",
       "      <td>296</td>\n",
       "      <td>15.3</td>\n",
       "      <td>396.90</td>\n",
       "      <td>4.98</td>\n",
       "      <td>24.0</td>\n",
       "    </tr>\n",
       "    <tr>\n",
       "      <th>1</th>\n",
       "      <td>0.02731</td>\n",
       "      <td>0.0</td>\n",
       "      <td>7.07</td>\n",
       "      <td>0</td>\n",
       "      <td>0.469</td>\n",
       "      <td>6.421</td>\n",
       "      <td>78.9</td>\n",
       "      <td>4.9671</td>\n",
       "      <td>2</td>\n",
       "      <td>242</td>\n",
       "      <td>17.8</td>\n",
       "      <td>396.90</td>\n",
       "      <td>9.14</td>\n",
       "      <td>21.6</td>\n",
       "    </tr>\n",
       "    <tr>\n",
       "      <th>2</th>\n",
       "      <td>0.02729</td>\n",
       "      <td>0.0</td>\n",
       "      <td>7.07</td>\n",
       "      <td>0</td>\n",
       "      <td>0.469</td>\n",
       "      <td>7.185</td>\n",
       "      <td>61.1</td>\n",
       "      <td>4.9671</td>\n",
       "      <td>2</td>\n",
       "      <td>242</td>\n",
       "      <td>17.8</td>\n",
       "      <td>392.83</td>\n",
       "      <td>4.03</td>\n",
       "      <td>34.7</td>\n",
       "    </tr>\n",
       "    <tr>\n",
       "      <th>3</th>\n",
       "      <td>0.03237</td>\n",
       "      <td>0.0</td>\n",
       "      <td>2.18</td>\n",
       "      <td>0</td>\n",
       "      <td>0.458</td>\n",
       "      <td>6.998</td>\n",
       "      <td>45.8</td>\n",
       "      <td>6.0622</td>\n",
       "      <td>3</td>\n",
       "      <td>222</td>\n",
       "      <td>18.7</td>\n",
       "      <td>394.63</td>\n",
       "      <td>2.94</td>\n",
       "      <td>33.4</td>\n",
       "    </tr>\n",
       "    <tr>\n",
       "      <th>4</th>\n",
       "      <td>0.06905</td>\n",
       "      <td>0.0</td>\n",
       "      <td>2.18</td>\n",
       "      <td>0</td>\n",
       "      <td>0.458</td>\n",
       "      <td>7.147</td>\n",
       "      <td>54.2</td>\n",
       "      <td>6.0622</td>\n",
       "      <td>3</td>\n",
       "      <td>222</td>\n",
       "      <td>18.7</td>\n",
       "      <td>396.90</td>\n",
       "      <td>5.33</td>\n",
       "      <td>36.2</td>\n",
       "    </tr>\n",
       "  </tbody>\n",
       "</table>\n",
       "</div>"
      ],
      "text/plain": [
       "      crim    zn  indus  chas    nox     rm   age     dis  rad  tax  ptratio  \\\n",
       "0  0.00632  18.0   2.31     0  0.538  6.575  65.2  4.0900    1  296     15.3   \n",
       "1  0.02731   0.0   7.07     0  0.469  6.421  78.9  4.9671    2  242     17.8   \n",
       "2  0.02729   0.0   7.07     0  0.469  7.185  61.1  4.9671    2  242     17.8   \n",
       "3  0.03237   0.0   2.18     0  0.458  6.998  45.8  6.0622    3  222     18.7   \n",
       "4  0.06905   0.0   2.18     0  0.458  7.147  54.2  6.0622    3  222     18.7   \n",
       "\n",
       "    black  lstat  medv  \n",
       "0  396.90   4.98  24.0  \n",
       "1  396.90   9.14  21.6  \n",
       "2  392.83   4.03  34.7  \n",
       "3  394.63   2.94  33.4  \n",
       "4  396.90   5.33  36.2  "
      ]
     },
     "execution_count": 9,
     "metadata": {},
     "output_type": "execute_result"
    }
   ],
   "source": [
    "bos = pd.read_csv(\"Boston.csv\")\n",
    "bos.head()"
   ]
  },
  {
   "cell_type": "code",
   "execution_count": 10,
   "id": "116fec3d",
   "metadata": {},
   "outputs": [
    {
     "name": "stdout",
     "output_type": "stream",
     "text": [
      "0.9979685756335139\n"
     ]
    }
   ],
   "source": [
    "x = bos.iloc[:,:-1]\n",
    "y = bos['medv']\n",
    "poly = PolynomialFeatures(degree=3)\n",
    "x_poly = poly.fit_transform(x)\n",
    "#print(poly.get_feature_names_out())\n",
    "lr.fit(x_poly,y)\n",
    "#print(lr.intercept_)\n",
    "#print(lr.coef_)\n",
    "y_pred = lr.predict(x_poly)\n",
    "print(r2_score(y,y_pred))"
   ]
  },
  {
   "cell_type": "code",
   "execution_count": 11,
   "id": "2d57d338",
   "metadata": {},
   "outputs": [],
   "source": [
    "# Train Test Split\n",
    "# Linear Regression"
   ]
  },
  {
   "cell_type": "code",
   "execution_count": 12,
   "id": "55fd805d",
   "metadata": {},
   "outputs": [],
   "source": [
    "from sklearn.model_selection import train_test_split"
   ]
  },
  {
   "cell_type": "code",
   "execution_count": 24,
   "id": "b38f8983",
   "metadata": {},
   "outputs": [],
   "source": [
    "x_train, x_test, y_train, y_test = train_test_split(x, y, train_size = 0.7,random_state=2022)"
   ]
  },
  {
   "cell_type": "code",
   "execution_count": 25,
   "id": "334cbb41",
   "metadata": {},
   "outputs": [
    {
     "name": "stdout",
     "output_type": "stream",
     "text": [
      "0.7430693569118816\n"
     ]
    }
   ],
   "source": [
    "lr = LinearRegression()\n",
    "lr.fit(x_train, y_train)\n",
    "y_pred = lr.predict(x_test)\n",
    "print(r2_score(y_test,y_pred))"
   ]
  },
  {
   "cell_type": "code",
   "execution_count": 26,
   "id": "191f33d8",
   "metadata": {},
   "outputs": [],
   "source": [
    "# Polynomial"
   ]
  },
  {
   "cell_type": "code",
   "execution_count": 33,
   "id": "baa34fef",
   "metadata": {},
   "outputs": [],
   "source": [
    "poly = PolynomialFeatures(degree=1)\n",
    "poly.fit(x_train)\n",
    "x_train_poly = poly.fit_transform(x_train)\n",
    "x_test_poly = poly.transform(x_test)"
   ]
  },
  {
   "cell_type": "code",
   "execution_count": 34,
   "id": "5519b772",
   "metadata": {},
   "outputs": [
    {
     "name": "stdout",
     "output_type": "stream",
     "text": [
      "0.7430693569118818\n"
     ]
    }
   ],
   "source": [
    "lr = LinearRegression()\n",
    "lr.fit(x_train_poly, y_train)\n",
    "y_pred = lr.predict(x_test_poly)\n",
    "print(r2_score(y_test,y_pred))"
   ]
  },
  {
   "cell_type": "markdown",
   "id": "080de46b",
   "metadata": {},
   "source": [
    "# Pipeline"
   ]
  },
  {
   "cell_type": "code",
   "execution_count": 36,
   "id": "3fe8c886",
   "metadata": {},
   "outputs": [],
   "source": [
    "from sklearn.pipeline import Pipeline"
   ]
  },
  {
   "cell_type": "code",
   "execution_count": 37,
   "id": "06f7c2fc",
   "metadata": {},
   "outputs": [
    {
     "name": "stdout",
     "output_type": "stream",
     "text": [
      "0.7430693569118818\n"
     ]
    }
   ],
   "source": [
    "poly = PolynomialFeatures(degree=1)\n",
    "lr = LinearRegression()\n",
    "pipe = Pipeline([('Polynomial',poly),('LIN',lr)])\n",
    "pipe.fit(x_train,y_train)\n",
    "y_pred = pipe.predict(x_test)\n",
    "print(r2_score(y_test,y_pred))"
   ]
  },
  {
   "cell_type": "code",
   "execution_count": 39,
   "id": "7c97b014",
   "metadata": {},
   "outputs": [
    {
     "data": {
      "text/html": [
       "<div>\n",
       "<style scoped>\n",
       "    .dataframe tbody tr th:only-of-type {\n",
       "        vertical-align: middle;\n",
       "    }\n",
       "\n",
       "    .dataframe tbody tr th {\n",
       "        vertical-align: top;\n",
       "    }\n",
       "\n",
       "    .dataframe thead th {\n",
       "        text-align: right;\n",
       "    }\n",
       "</style>\n",
       "<table border=\"1\" class=\"dataframe\">\n",
       "  <thead>\n",
       "    <tr style=\"text-align: right;\">\n",
       "      <th></th>\n",
       "      <th>Couple's Income</th>\n",
       "      <th>Bride's age</th>\n",
       "      <th>Payor</th>\n",
       "      <th>Wedding cost</th>\n",
       "      <th>Attendance</th>\n",
       "      <th>Value Rating</th>\n",
       "    </tr>\n",
       "  </thead>\n",
       "  <tbody>\n",
       "    <tr>\n",
       "      <th>0</th>\n",
       "      <td>130000</td>\n",
       "      <td>22</td>\n",
       "      <td>Bride's Parents</td>\n",
       "      <td>60700</td>\n",
       "      <td>300</td>\n",
       "      <td>3</td>\n",
       "    </tr>\n",
       "    <tr>\n",
       "      <th>1</th>\n",
       "      <td>157000</td>\n",
       "      <td>23</td>\n",
       "      <td>Bride's Parents</td>\n",
       "      <td>52000</td>\n",
       "      <td>350</td>\n",
       "      <td>1</td>\n",
       "    </tr>\n",
       "    <tr>\n",
       "      <th>2</th>\n",
       "      <td>98000</td>\n",
       "      <td>27</td>\n",
       "      <td>Bride &amp; Groom</td>\n",
       "      <td>47000</td>\n",
       "      <td>150</td>\n",
       "      <td>3</td>\n",
       "    </tr>\n",
       "    <tr>\n",
       "      <th>3</th>\n",
       "      <td>72000</td>\n",
       "      <td>29</td>\n",
       "      <td>Bride &amp; Groom</td>\n",
       "      <td>42000</td>\n",
       "      <td>200</td>\n",
       "      <td>5</td>\n",
       "    </tr>\n",
       "    <tr>\n",
       "      <th>4</th>\n",
       "      <td>86000</td>\n",
       "      <td>25</td>\n",
       "      <td>Bride's Parents</td>\n",
       "      <td>34000</td>\n",
       "      <td>250</td>\n",
       "      <td>3</td>\n",
       "    </tr>\n",
       "  </tbody>\n",
       "</table>\n",
       "</div>"
      ],
      "text/plain": [
       "   Couple's Income  Bride's age             Payor  Wedding cost  Attendance  \\\n",
       "0           130000            22  Bride's Parents         60700         300   \n",
       "1           157000            23  Bride's Parents         52000         350   \n",
       "2            98000            27    Bride & Groom         47000         150   \n",
       "3            72000            29    Bride & Groom         42000         200   \n",
       "4            86000            25  Bride's Parents         34000         250   \n",
       "\n",
       "   Value Rating  \n",
       "0             3  \n",
       "1             1  \n",
       "2             3  \n",
       "3             5  \n",
       "4             3  "
      ]
     },
     "execution_count": 39,
     "metadata": {},
     "output_type": "execute_result"
    }
   ],
   "source": [
    "wed = pd.read_excel(\"Weddings.xlsx\",usecols='A:F',skiprows=2)\n",
    "wed.head()"
   ]
  },
  {
   "cell_type": "code",
   "execution_count": 50,
   "id": "d38d954b",
   "metadata": {},
   "outputs": [
    {
     "name": "stdout",
     "output_type": "stream",
     "text": [
      "0.5377184992361959\n"
     ]
    }
   ],
   "source": [
    "# case 1\n",
    "\n",
    "# x = wed[[\"Wedding cost\"]]\n",
    "# y = wed['Attendance']\n",
    "# x_train, x_test, y_train, y_test = train_test_split(x, y, train_size = 0.7,random_state=2022)\n",
    "\n",
    "# lr = LinearRegression()\n",
    "# lr.fit(x_train, y_train)\n",
    "# y_pred = lr.predict(x_test)\n",
    "# print(r2_score(y_test,y_pred))\n",
    "\n",
    "x = wed[[\"Wedding cost\"]]\n",
    "y = wed['Attendance']\n",
    "lr = LinearRegression()\n",
    "lr.fit(x,y)\n",
    "#print(lr.intercept_)\n",
    "#print(lr.coef_)\n",
    "y_pred = lr.predict(x)\n",
    "print(r2_score(y,y_pred))"
   ]
  },
  {
   "cell_type": "code",
   "execution_count": 51,
   "id": "35e2c91b",
   "metadata": {},
   "outputs": [
    {
     "name": "stdout",
     "output_type": "stream",
     "text": [
      "0.006579643742817498\n"
     ]
    }
   ],
   "source": [
    "# case 1\n",
    "\n",
    "x = wed[[\"Value Rating\"]]\n",
    "y = wed['Attendance']\n",
    "lr = LinearRegression()\n",
    "lr.fit(x,y)\n",
    "#print(lr.intercept_)\n",
    "#print(lr.coef_)\n",
    "y_pred = lr.predict(x)\n",
    "print(r2_score(y,y_pred))"
   ]
  },
  {
   "cell_type": "code",
   "execution_count": 52,
   "id": "bf7d6116",
   "metadata": {},
   "outputs": [
    {
     "name": "stdout",
     "output_type": "stream",
     "text": [
      "0.4897348449194999\n"
     ]
    }
   ],
   "source": [
    "# case 2\n",
    "\n",
    "x = wed[[\"Couple's Income\"]]\n",
    "y = wed['Attendance']\n",
    "lr = LinearRegression()\n",
    "lr.fit(x,y)\n",
    "#print(lr.intercept_)\n",
    "#print(lr.coef_)\n",
    "y_pred = lr.predict(x)\n",
    "print(r2_score(y,y_pred))"
   ]
  },
  {
   "cell_type": "code",
   "execution_count": 55,
   "id": "6521a3ae",
   "metadata": {},
   "outputs": [
    {
     "name": "stdout",
     "output_type": "stream",
     "text": [
      "0.6887947810328077\n"
     ]
    }
   ],
   "source": [
    "# case 3\n",
    "\n",
    "x = wed[[\"Couple's Income\"]]\n",
    "y = wed['Wedding cost']\n",
    "lr = LinearRegression()\n",
    "lr.fit(x,y)\n",
    "#print(lr.intercept_)\n",
    "#print(lr.coef_)\n",
    "y_pred = lr.predict(x)\n",
    "print(r2_score(y,y_pred))"
   ]
  },
  {
   "cell_type": "markdown",
   "id": "a726f6a4",
   "metadata": {},
   "source": [
    "## Anova"
   ]
  },
  {
   "cell_type": "code",
   "execution_count": 63,
   "id": "b5ebf8aa",
   "metadata": {},
   "outputs": [],
   "source": [
    "import statsmodels.api as sm"
   ]
  },
  {
   "cell_type": "code",
   "execution_count": 64,
   "id": "832830cb",
   "metadata": {},
   "outputs": [
    {
     "data": {
      "text/html": [
       "<div>\n",
       "<style scoped>\n",
       "    .dataframe tbody tr th:only-of-type {\n",
       "        vertical-align: middle;\n",
       "    }\n",
       "\n",
       "    .dataframe tbody tr th {\n",
       "        vertical-align: top;\n",
       "    }\n",
       "\n",
       "    .dataframe thead th {\n",
       "        text-align: right;\n",
       "    }\n",
       "</style>\n",
       "<table border=\"1\" class=\"dataframe\">\n",
       "  <thead>\n",
       "    <tr style=\"text-align: right;\">\n",
       "      <th></th>\n",
       "      <th>Promote</th>\n",
       "      <th>Sales</th>\n",
       "    </tr>\n",
       "  </thead>\n",
       "  <tbody>\n",
       "    <tr>\n",
       "      <th>0</th>\n",
       "      <td>23</td>\n",
       "      <td>554</td>\n",
       "    </tr>\n",
       "    <tr>\n",
       "      <th>1</th>\n",
       "      <td>56</td>\n",
       "      <td>1339</td>\n",
       "    </tr>\n",
       "    <tr>\n",
       "      <th>2</th>\n",
       "      <td>34</td>\n",
       "      <td>815</td>\n",
       "    </tr>\n",
       "    <tr>\n",
       "      <th>3</th>\n",
       "      <td>25</td>\n",
       "      <td>609</td>\n",
       "    </tr>\n",
       "    <tr>\n",
       "      <th>4</th>\n",
       "      <td>67</td>\n",
       "      <td>1600</td>\n",
       "    </tr>\n",
       "  </tbody>\n",
       "</table>\n",
       "</div>"
      ],
      "text/plain": [
       "   Promote  Sales\n",
       "0       23    554\n",
       "1       56   1339\n",
       "2       34    815\n",
       "3       25    609\n",
       "4       67   1600"
      ]
     },
     "execution_count": 64,
     "metadata": {},
     "output_type": "execute_result"
    }
   ],
   "source": [
    "pizza = pd.read_csv(\"pizza.csv\")\n",
    "pizza.head()"
   ]
  },
  {
   "cell_type": "code",
   "execution_count": 65,
   "id": "16a0c202",
   "metadata": {},
   "outputs": [
    {
     "name": "stdout",
     "output_type": "stream",
     "text": [
      "const       5.485865\n",
      "Promote    23.506403\n",
      "dtype: float64\n",
      "                            OLS Regression Results                            \n",
      "==============================================================================\n",
      "Dep. Variable:                  Sales   R-squared:                       0.989\n",
      "Model:                            OLS   Adj. R-squared:                  0.988\n",
      "Method:                 Least Squares   F-statistic:                     1503.\n",
      "Date:                Fri, 16 Dec 2022   Prob (F-statistic):           4.97e-18\n",
      "Time:                        11:45:18   Log-Likelihood:                -105.50\n",
      "No. Observations:                  19   AIC:                             215.0\n",
      "Df Residuals:                      17   BIC:                             216.9\n",
      "Df Model:                           1                                         \n",
      "Covariance Type:            nonrobust                                         \n",
      "==============================================================================\n",
      "                 coef    std err          t      P>|t|      [0.025      0.975]\n",
      "------------------------------------------------------------------------------\n",
      "const          5.4859     34.718      0.158      0.876     -67.763      78.734\n",
      "Promote       23.5064      0.606     38.767      0.000      22.227      24.786\n",
      "==============================================================================\n",
      "Omnibus:                        2.330   Durbin-Watson:                   2.063\n",
      "Prob(Omnibus):                  0.312   Jarque-Bera (JB):                0.821\n",
      "Skew:                           0.403   Prob(JB):                        0.663\n",
      "Kurtosis:                       3.622   Cond. No.                         131.\n",
      "==============================================================================\n",
      "\n",
      "Notes:\n",
      "[1] Standard Errors assume that the covariance matrix of the errors is correctly specified.\n"
     ]
    },
    {
     "name": "stderr",
     "output_type": "stream",
     "text": [
      "C:\\Users\\admin\\anaconda3\\lib\\site-packages\\scipy\\stats\\_stats_py.py:1769: UserWarning: kurtosistest only valid for n>=20 ... continuing anyway, n=19\n",
      "  warnings.warn(\"kurtosistest only valid for n>=20 ... continuing \"\n"
     ]
    }
   ],
   "source": [
    "x = pizza['Promote']\n",
    "x = sm.add_constant(x)\n",
    "y = pizza['Sales']\n",
    "model = sm.OLS(y,x)\n",
    "results = model.fit()\n",
    "print(results.params)\n",
    "print(results.summary())"
   ]
  },
  {
   "cell_type": "code",
   "execution_count": null,
   "id": "601eb726",
   "metadata": {},
   "outputs": [],
   "source": []
  },
  {
   "cell_type": "code",
   "execution_count": 57,
   "id": "985fde37",
   "metadata": {},
   "outputs": [
    {
     "data": {
      "text/html": [
       "<div>\n",
       "<style scoped>\n",
       "    .dataframe tbody tr th:only-of-type {\n",
       "        vertical-align: middle;\n",
       "    }\n",
       "\n",
       "    .dataframe tbody tr th {\n",
       "        vertical-align: top;\n",
       "    }\n",
       "\n",
       "    .dataframe thead th {\n",
       "        text-align: right;\n",
       "    }\n",
       "</style>\n",
       "<table border=\"1\" class=\"dataframe\">\n",
       "  <thead>\n",
       "    <tr style=\"text-align: right;\">\n",
       "      <th></th>\n",
       "      <th>Homeowner</th>\n",
       "      <th>Credit Score</th>\n",
       "      <th>Years of Credit History</th>\n",
       "      <th>Revolving Balance</th>\n",
       "      <th>Revolving Utilization</th>\n",
       "      <th>Decision</th>\n",
       "    </tr>\n",
       "  </thead>\n",
       "  <tbody>\n",
       "    <tr>\n",
       "      <th>0</th>\n",
       "      <td>Y</td>\n",
       "      <td>725</td>\n",
       "      <td>20</td>\n",
       "      <td>11320</td>\n",
       "      <td>0.25</td>\n",
       "      <td>Approve</td>\n",
       "    </tr>\n",
       "    <tr>\n",
       "      <th>1</th>\n",
       "      <td>Y</td>\n",
       "      <td>573</td>\n",
       "      <td>9</td>\n",
       "      <td>7200</td>\n",
       "      <td>0.70</td>\n",
       "      <td>Reject</td>\n",
       "    </tr>\n",
       "    <tr>\n",
       "      <th>2</th>\n",
       "      <td>Y</td>\n",
       "      <td>677</td>\n",
       "      <td>11</td>\n",
       "      <td>20000</td>\n",
       "      <td>0.55</td>\n",
       "      <td>Approve</td>\n",
       "    </tr>\n",
       "    <tr>\n",
       "      <th>3</th>\n",
       "      <td>N</td>\n",
       "      <td>625</td>\n",
       "      <td>15</td>\n",
       "      <td>12800</td>\n",
       "      <td>0.65</td>\n",
       "      <td>Reject</td>\n",
       "    </tr>\n",
       "    <tr>\n",
       "      <th>4</th>\n",
       "      <td>N</td>\n",
       "      <td>527</td>\n",
       "      <td>12</td>\n",
       "      <td>5700</td>\n",
       "      <td>0.75</td>\n",
       "      <td>Reject</td>\n",
       "    </tr>\n",
       "  </tbody>\n",
       "</table>\n",
       "</div>"
      ],
      "text/plain": [
       "  Homeowner  Credit Score  Years of Credit History  Revolving Balance  \\\n",
       "0         Y           725                       20              11320   \n",
       "1         Y           573                        9               7200   \n",
       "2         Y           677                       11              20000   \n",
       "3         N           625                       15              12800   \n",
       "4         N           527                       12               5700   \n",
       "\n",
       "   Revolving Utilization Decision  \n",
       "0                   0.25  Approve  \n",
       "1                   0.70   Reject  \n",
       "2                   0.55  Approve  \n",
       "3                   0.65   Reject  \n",
       "4                   0.75   Reject  "
      ]
     },
     "execution_count": 57,
     "metadata": {},
     "output_type": "execute_result"
    }
   ],
   "source": [
    "credit = pd.read_excel(\"CreditApprovalDecisions.xlsx\",usecols='A:F',skiprows=2)\n",
    "credit.head()"
   ]
  },
  {
   "cell_type": "code",
   "execution_count": 58,
   "id": "a49b8b2c",
   "metadata": {},
   "outputs": [
    {
     "data": {
      "text/plain": [
       "(50, 6)"
      ]
     },
     "execution_count": 58,
     "metadata": {},
     "output_type": "execute_result"
    }
   ],
   "source": [
    "credit.shape"
   ]
  },
  {
   "cell_type": "code",
   "execution_count": null,
   "id": "a1276e0a",
   "metadata": {},
   "outputs": [],
   "source": []
  },
  {
   "cell_type": "code",
   "execution_count": 66,
   "id": "46ae2505",
   "metadata": {},
   "outputs": [
    {
     "name": "stdout",
     "output_type": "stream",
     "text": [
      "const                      771.892254\n",
      "Years of Credit History     -2.098481\n",
      "Revolving Balance            0.001565\n",
      "Revolving Utilization     -246.227645\n",
      "dtype: float64\n",
      "                            OLS Regression Results                            \n",
      "==============================================================================\n",
      "Dep. Variable:           Credit Score   R-squared:                       0.665\n",
      "Model:                            OLS   Adj. R-squared:                  0.643\n",
      "Method:                 Least Squares   F-statistic:                     30.39\n",
      "Date:                Fri, 16 Dec 2022   Prob (F-statistic):           5.53e-11\n",
      "Time:                        11:45:46   Log-Likelihood:                -268.13\n",
      "No. Observations:                  50   AIC:                             544.3\n",
      "Df Residuals:                      46   BIC:                             551.9\n",
      "Df Model:                           3                                         \n",
      "Covariance Type:            nonrobust                                         \n",
      "===========================================================================================\n",
      "                              coef    std err          t      P>|t|      [0.025      0.975]\n",
      "-------------------------------------------------------------------------------------------\n",
      "const                     771.8923     26.912     28.682      0.000     717.720     826.064\n",
      "Years of Credit History    -2.0985      1.490     -1.408      0.166      -5.098       0.901\n",
      "Revolving Balance           0.0016      0.001      1.765      0.084      -0.000       0.003\n",
      "Revolving Utilization    -246.2276     27.932     -8.815      0.000    -302.452    -190.004\n",
      "==============================================================================\n",
      "Omnibus:                        6.565   Durbin-Watson:                   1.386\n",
      "Prob(Omnibus):                  0.038   Jarque-Bera (JB):                5.456\n",
      "Skew:                           0.714   Prob(JB):                       0.0653\n",
      "Kurtosis:                       3.763   Cond. No.                     7.80e+04\n",
      "==============================================================================\n",
      "\n",
      "Notes:\n",
      "[1] Standard Errors assume that the covariance matrix of the errors is correctly specified.\n",
      "[2] The condition number is large, 7.8e+04. This might indicate that there are\n",
      "strong multicollinearity or other numerical problems.\n"
     ]
    }
   ],
   "source": [
    "x = credit[['Years of Credit History','Revolving Balance','Revolving Utilization']]\n",
    "y = credit['Credit Score']\n",
    "x = sm.add_constant(x)\n",
    "model = sm.OLS(y,x)\n",
    "results = model.fit()\n",
    "print(results.params)\n",
    "print(results.summary())"
   ]
  },
  {
   "cell_type": "code",
   "execution_count": null,
   "id": "39b60b1d",
   "metadata": {},
   "outputs": [],
   "source": []
  }
 ],
 "metadata": {
  "kernelspec": {
   "display_name": "Python 3 (ipykernel)",
   "language": "python",
   "name": "python3"
  },
  "language_info": {
   "codemirror_mode": {
    "name": "ipython",
    "version": 3
   },
   "file_extension": ".py",
   "mimetype": "text/x-python",
   "name": "python",
   "nbconvert_exporter": "python",
   "pygments_lexer": "ipython3",
   "version": "3.9.13"
  }
 },
 "nbformat": 4,
 "nbformat_minor": 5
}
