{
 "cells": [
  {
   "cell_type": "code",
   "execution_count": 8,
   "id": "0e1405c7",
   "metadata": {},
   "outputs": [],
   "source": [
    "import numpy as np\n",
    "import pandas as pd\n",
    "import seaborn as sns\n",
    "import matplotlib.pyplot as plt\n",
    "from sklearn.linear_model import LinearRegression\n",
    "from sklearn.model_selection import train_test_split\n",
    "from sklearn.metrics import r2_score\n",
    "import statsmodels.api as sm"
   ]
  },
  {
   "cell_type": "code",
   "execution_count": 20,
   "id": "a18397a3",
   "metadata": {},
   "outputs": [
    {
     "data": {
      "text/html": [
       "<div>\n",
       "<style scoped>\n",
       "    .dataframe tbody tr th:only-of-type {\n",
       "        vertical-align: middle;\n",
       "    }\n",
       "\n",
       "    .dataframe tbody tr th {\n",
       "        vertical-align: top;\n",
       "    }\n",
       "\n",
       "    .dataframe thead th {\n",
       "        text-align: right;\n",
       "    }\n",
       "</style>\n",
       "<table border=\"1\" class=\"dataframe\">\n",
       "  <thead>\n",
       "    <tr style=\"text-align: right;\">\n",
       "      <th></th>\n",
       "      <th>Promote</th>\n",
       "      <th>Sales</th>\n",
       "    </tr>\n",
       "  </thead>\n",
       "  <tbody>\n",
       "    <tr>\n",
       "      <th>0</th>\n",
       "      <td>23</td>\n",
       "      <td>554</td>\n",
       "    </tr>\n",
       "    <tr>\n",
       "      <th>1</th>\n",
       "      <td>56</td>\n",
       "      <td>1339</td>\n",
       "    </tr>\n",
       "    <tr>\n",
       "      <th>2</th>\n",
       "      <td>34</td>\n",
       "      <td>815</td>\n",
       "    </tr>\n",
       "    <tr>\n",
       "      <th>3</th>\n",
       "      <td>25</td>\n",
       "      <td>609</td>\n",
       "    </tr>\n",
       "    <tr>\n",
       "      <th>4</th>\n",
       "      <td>67</td>\n",
       "      <td>1600</td>\n",
       "    </tr>\n",
       "  </tbody>\n",
       "</table>\n",
       "</div>"
      ],
      "text/plain": [
       "   Promote  Sales\n",
       "0       23    554\n",
       "1       56   1339\n",
       "2       34    815\n",
       "3       25    609\n",
       "4       67   1600"
      ]
     },
     "execution_count": 20,
     "metadata": {},
     "output_type": "execute_result"
    }
   ],
   "source": [
    "pizza = pd.read_csv(\"pizza.csv\")\n",
    "cd = pd.read_excel(\"CreditApprovalDecisions.xlsx\",usecols=\"A:F\", skiprows=2)\n",
    "pizza.head()"
   ]
  },
  {
   "cell_type": "code",
   "execution_count": 12,
   "id": "0b5924c2",
   "metadata": {},
   "outputs": [],
   "source": [
    "x = pizza[['Promote']]\n",
    "x=sm.add_constant(x)\n",
    "y = pizza['Sales']\n",
    "model = sm.OLS(y,x)\n",
    "results = model.fit()"
   ]
  },
  {
   "cell_type": "code",
   "execution_count": 14,
   "id": "efd1c2c3",
   "metadata": {},
   "outputs": [
    {
     "name": "stdout",
     "output_type": "stream",
     "text": [
      "const       5.485865\n",
      "Promote    23.506403\n",
      "dtype: float64\n",
      "                            OLS Regression Results                            \n",
      "==============================================================================\n",
      "Dep. Variable:                  Sales   R-squared:                       0.989\n",
      "Model:                            OLS   Adj. R-squared:                  0.988\n",
      "Method:                 Least Squares   F-statistic:                     1503.\n",
      "Date:                Fri, 16 Dec 2022   Prob (F-statistic):           4.97e-18\n",
      "Time:                        11:46:27   Log-Likelihood:                -105.50\n",
      "No. Observations:                  19   AIC:                             215.0\n",
      "Df Residuals:                      17   BIC:                             216.9\n",
      "Df Model:                           1                                         \n",
      "Covariance Type:            nonrobust                                         \n",
      "==============================================================================\n",
      "                 coef    std err          t      P>|t|      [0.025      0.975]\n",
      "------------------------------------------------------------------------------\n",
      "const          5.4859     34.718      0.158      0.876     -67.763      78.734\n",
      "Promote       23.5064      0.606     38.767      0.000      22.227      24.786\n",
      "==============================================================================\n",
      "Omnibus:                        2.330   Durbin-Watson:                   2.063\n",
      "Prob(Omnibus):                  0.312   Jarque-Bera (JB):                0.821\n",
      "Skew:                           0.403   Prob(JB):                        0.663\n",
      "Kurtosis:                       3.622   Cond. No.                         131.\n",
      "==============================================================================\n",
      "\n",
      "Notes:\n",
      "[1] Standard Errors assume that the covariance matrix of the errors is correctly specified.\n"
     ]
    },
    {
     "name": "stderr",
     "output_type": "stream",
     "text": [
      "C:\\Users\\admin\\anaconda3\\lib\\site-packages\\scipy\\stats\\_stats_py.py:1769: UserWarning: kurtosistest only valid for n>=20 ... continuing anyway, n=19\n",
      "  warnings.warn(\"kurtosistest only valid for n>=20 ... continuing \"\n"
     ]
    }
   ],
   "source": [
    "print(results.params)\n",
    "print(results.summary())"
   ]
  },
  {
   "cell_type": "code",
   "execution_count": null,
   "id": "ffe189ff",
   "metadata": {},
   "outputs": [],
   "source": [
    "'''******************************* Credit Approval ******************************'''"
   ]
  },
  {
   "cell_type": "code",
   "execution_count": 21,
   "id": "62febff7",
   "metadata": {},
   "outputs": [
    {
     "data": {
      "text/html": [
       "<div>\n",
       "<style scoped>\n",
       "    .dataframe tbody tr th:only-of-type {\n",
       "        vertical-align: middle;\n",
       "    }\n",
       "\n",
       "    .dataframe tbody tr th {\n",
       "        vertical-align: top;\n",
       "    }\n",
       "\n",
       "    .dataframe thead th {\n",
       "        text-align: right;\n",
       "    }\n",
       "</style>\n",
       "<table border=\"1\" class=\"dataframe\">\n",
       "  <thead>\n",
       "    <tr style=\"text-align: right;\">\n",
       "      <th></th>\n",
       "      <th>Homeowner</th>\n",
       "      <th>Credit Score</th>\n",
       "      <th>Years of Credit History</th>\n",
       "      <th>Revolving Balance</th>\n",
       "      <th>Revolving Utilization</th>\n",
       "      <th>Decision</th>\n",
       "    </tr>\n",
       "  </thead>\n",
       "  <tbody>\n",
       "    <tr>\n",
       "      <th>0</th>\n",
       "      <td>Y</td>\n",
       "      <td>725</td>\n",
       "      <td>20</td>\n",
       "      <td>11320</td>\n",
       "      <td>0.25</td>\n",
       "      <td>Approve</td>\n",
       "    </tr>\n",
       "    <tr>\n",
       "      <th>1</th>\n",
       "      <td>Y</td>\n",
       "      <td>573</td>\n",
       "      <td>9</td>\n",
       "      <td>7200</td>\n",
       "      <td>0.70</td>\n",
       "      <td>Reject</td>\n",
       "    </tr>\n",
       "    <tr>\n",
       "      <th>2</th>\n",
       "      <td>Y</td>\n",
       "      <td>677</td>\n",
       "      <td>11</td>\n",
       "      <td>20000</td>\n",
       "      <td>0.55</td>\n",
       "      <td>Approve</td>\n",
       "    </tr>\n",
       "    <tr>\n",
       "      <th>3</th>\n",
       "      <td>N</td>\n",
       "      <td>625</td>\n",
       "      <td>15</td>\n",
       "      <td>12800</td>\n",
       "      <td>0.65</td>\n",
       "      <td>Reject</td>\n",
       "    </tr>\n",
       "    <tr>\n",
       "      <th>4</th>\n",
       "      <td>N</td>\n",
       "      <td>527</td>\n",
       "      <td>12</td>\n",
       "      <td>5700</td>\n",
       "      <td>0.75</td>\n",
       "      <td>Reject</td>\n",
       "    </tr>\n",
       "  </tbody>\n",
       "</table>\n",
       "</div>"
      ],
      "text/plain": [
       "  Homeowner  Credit Score  Years of Credit History  Revolving Balance  \\\n",
       "0         Y           725                       20              11320   \n",
       "1         Y           573                        9               7200   \n",
       "2         Y           677                       11              20000   \n",
       "3         N           625                       15              12800   \n",
       "4         N           527                       12               5700   \n",
       "\n",
       "   Revolving Utilization Decision  \n",
       "0                   0.25  Approve  \n",
       "1                   0.70   Reject  \n",
       "2                   0.55  Approve  \n",
       "3                   0.65   Reject  \n",
       "4                   0.75   Reject  "
      ]
     },
     "execution_count": 21,
     "metadata": {},
     "output_type": "execute_result"
    }
   ],
   "source": [
    "cd.head()"
   ]
  },
  {
   "cell_type": "code",
   "execution_count": 22,
   "id": "7fa1a2a6",
   "metadata": {},
   "outputs": [],
   "source": [
    "x = cd[['Years of Credit History',\"Revolving Balance\",\"Revolving Utilization\"]]\n",
    "x=sm.add_constant(x)\n",
    "y = cd['Credit Score']\n",
    "model = sm.OLS(y,x)\n",
    "results = model.fit()"
   ]
  },
  {
   "cell_type": "code",
   "execution_count": 23,
   "id": "97ece3b1",
   "metadata": {},
   "outputs": [
    {
     "name": "stdout",
     "output_type": "stream",
     "text": [
      "const                      771.892254\n",
      "Years of Credit History     -2.098481\n",
      "Revolving Balance            0.001565\n",
      "Revolving Utilization     -246.227645\n",
      "dtype: float64\n",
      "                            OLS Regression Results                            \n",
      "==============================================================================\n",
      "Dep. Variable:           Credit Score   R-squared:                       0.665\n",
      "Model:                            OLS   Adj. R-squared:                  0.643\n",
      "Method:                 Least Squares   F-statistic:                     30.39\n",
      "Date:                Fri, 16 Dec 2022   Prob (F-statistic):           5.53e-11\n",
      "Time:                        11:54:33   Log-Likelihood:                -268.13\n",
      "No. Observations:                  50   AIC:                             544.3\n",
      "Df Residuals:                      46   BIC:                             551.9\n",
      "Df Model:                           3                                         \n",
      "Covariance Type:            nonrobust                                         \n",
      "===========================================================================================\n",
      "                              coef    std err          t      P>|t|      [0.025      0.975]\n",
      "-------------------------------------------------------------------------------------------\n",
      "const                     771.8923     26.912     28.682      0.000     717.720     826.064\n",
      "Years of Credit History    -2.0985      1.490     -1.408      0.166      -5.098       0.901\n",
      "Revolving Balance           0.0016      0.001      1.765      0.084      -0.000       0.003\n",
      "Revolving Utilization    -246.2276     27.932     -8.815      0.000    -302.452    -190.004\n",
      "==============================================================================\n",
      "Omnibus:                        6.565   Durbin-Watson:                   1.386\n",
      "Prob(Omnibus):                  0.038   Jarque-Bera (JB):                5.456\n",
      "Skew:                           0.714   Prob(JB):                       0.0653\n",
      "Kurtosis:                       3.763   Cond. No.                     7.80e+04\n",
      "==============================================================================\n",
      "\n",
      "Notes:\n",
      "[1] Standard Errors assume that the covariance matrix of the errors is correctly specified.\n",
      "[2] The condition number is large, 7.8e+04. This might indicate that there are\n",
      "strong multicollinearity or other numerical problems.\n"
     ]
    }
   ],
   "source": [
    "print(results.params)\n",
    "print(results.summary())"
   ]
  },
  {
   "cell_type": "code",
   "execution_count": null,
   "id": "04ce099c",
   "metadata": {},
   "outputs": [],
   "source": []
  },
  {
   "cell_type": "code",
   "execution_count": null,
   "id": "df869067",
   "metadata": {},
   "outputs": [],
   "source": []
  }
 ],
 "metadata": {
  "kernelspec": {
   "display_name": "Python 3 (ipykernel)",
   "language": "python",
   "name": "python3"
  },
  "language_info": {
   "codemirror_mode": {
    "name": "ipython",
    "version": 3
   },
   "file_extension": ".py",
   "mimetype": "text/x-python",
   "name": "python",
   "nbconvert_exporter": "python",
   "pygments_lexer": "ipython3",
   "version": "3.9.13"
  }
 },
 "nbformat": 4,
 "nbformat_minor": 5
}
