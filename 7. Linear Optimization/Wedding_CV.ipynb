{
 "cells": [
  {
   "cell_type": "code",
   "execution_count": 1,
   "id": "711c829c",
   "metadata": {},
   "outputs": [],
   "source": [
    "import ipywidgets as widgets\n",
    "from IPython.display import display"
   ]
  },
  {
   "cell_type": "code",
   "execution_count": 2,
   "id": "ff2bd944",
   "metadata": {},
   "outputs": [],
   "source": [
    "import pandas as pd\n",
    "from sklearn.linear_model import LinearRegression\n",
    "from sklearn.preprocessing import PolynomialFeatures\n",
    "from sklearn.metrics import mean_squared_error,mean_absolute_error,r2_score\n",
    "import numpy as np\n",
    "import os\n",
    "from sklearn.model_selection import train_test_split\n",
    "os.chdir(r\"C:\\Users\\admin\\Desktop\\Mandar\")\n",
    "wedding = pd.read_excel(\"Weddings.xlsx\",usecols=\"A:F\",skiprows=2)"
   ]
  },
  {
   "cell_type": "code",
   "execution_count": 5,
   "id": "d361e671",
   "metadata": {},
   "outputs": [
    {
     "data": {
      "text/html": [
       "<div>\n",
       "<style scoped>\n",
       "    .dataframe tbody tr th:only-of-type {\n",
       "        vertical-align: middle;\n",
       "    }\n",
       "\n",
       "    .dataframe tbody tr th {\n",
       "        vertical-align: top;\n",
       "    }\n",
       "\n",
       "    .dataframe thead th {\n",
       "        text-align: right;\n",
       "    }\n",
       "</style>\n",
       "<table border=\"1\" class=\"dataframe\">\n",
       "  <thead>\n",
       "    <tr style=\"text-align: right;\">\n",
       "      <th></th>\n",
       "      <th>Couple's Income</th>\n",
       "      <th>Bride's age</th>\n",
       "      <th>Payor</th>\n",
       "      <th>Wedding cost</th>\n",
       "      <th>Attendance</th>\n",
       "      <th>Value Rating</th>\n",
       "    </tr>\n",
       "  </thead>\n",
       "  <tbody>\n",
       "    <tr>\n",
       "      <th>0</th>\n",
       "      <td>130000</td>\n",
       "      <td>22</td>\n",
       "      <td>Bride's Parents</td>\n",
       "      <td>60700</td>\n",
       "      <td>300</td>\n",
       "      <td>3</td>\n",
       "    </tr>\n",
       "    <tr>\n",
       "      <th>1</th>\n",
       "      <td>157000</td>\n",
       "      <td>23</td>\n",
       "      <td>Bride's Parents</td>\n",
       "      <td>52000</td>\n",
       "      <td>350</td>\n",
       "      <td>1</td>\n",
       "    </tr>\n",
       "    <tr>\n",
       "      <th>2</th>\n",
       "      <td>98000</td>\n",
       "      <td>27</td>\n",
       "      <td>Bride &amp; Groom</td>\n",
       "      <td>47000</td>\n",
       "      <td>150</td>\n",
       "      <td>3</td>\n",
       "    </tr>\n",
       "    <tr>\n",
       "      <th>3</th>\n",
       "      <td>72000</td>\n",
       "      <td>29</td>\n",
       "      <td>Bride &amp; Groom</td>\n",
       "      <td>42000</td>\n",
       "      <td>200</td>\n",
       "      <td>5</td>\n",
       "    </tr>\n",
       "    <tr>\n",
       "      <th>4</th>\n",
       "      <td>86000</td>\n",
       "      <td>25</td>\n",
       "      <td>Bride's Parents</td>\n",
       "      <td>34000</td>\n",
       "      <td>250</td>\n",
       "      <td>3</td>\n",
       "    </tr>\n",
       "  </tbody>\n",
       "</table>\n",
       "</div>"
      ],
      "text/plain": [
       "   Couple's Income  Bride's age             Payor  Wedding cost  Attendance  \\\n",
       "0           130000            22  Bride's Parents         60700         300   \n",
       "1           157000            23  Bride's Parents         52000         350   \n",
       "2            98000            27    Bride & Groom         47000         150   \n",
       "3            72000            29    Bride & Groom         42000         200   \n",
       "4            86000            25  Bride's Parents         34000         250   \n",
       "\n",
       "   Value Rating  \n",
       "0             3  \n",
       "1             1  \n",
       "2             3  \n",
       "3             5  \n",
       "4             3  "
      ]
     },
     "execution_count": 5,
     "metadata": {},
     "output_type": "execute_result"
    }
   ],
   "source": [
    "wedding.head()"
   ]
  },
  {
   "cell_type": "code",
   "execution_count": 6,
   "id": "add21918",
   "metadata": {},
   "outputs": [],
   "source": [
    "X = weddingwedding[['Wedding cost']]\n",
    "y = wedding['Attendance']"
   ]
  },
  {
   "cell_type": "code",
   "execution_count": 7,
   "id": "d0e50ef2",
   "metadata": {},
   "outputs": [],
   "source": [
    "#x_train, x_test, y_train, y_test = train_test_split(X, y, train_size=0.75, random_state=50)"
   ]
  },
  {
   "cell_type": "code",
   "execution_count": 17,
   "id": "11f5def4",
   "metadata": {},
   "outputs": [
    {
     "name": "stdout",
     "output_type": "stream",
     "text": [
      "0.7063824896230863\n"
     ]
    }
   ],
   "source": [
    "lr = LinearRegression()\n",
    "lr.fit(X, y)\n",
    "y_pred = lr.predict(X)\n",
    "print(r2_score(y,y_pred))"
   ]
  },
  {
   "cell_type": "code",
   "execution_count": 18,
   "id": "f5da5c3c",
   "metadata": {},
   "outputs": [
    {
     "name": "stdout",
     "output_type": "stream",
     "text": [
      "0.5377184992361959\n"
     ]
    }
   ],
   "source": [
    "X = wedding[['Wedding cost']]\n",
    "y = wedding['Attendance']\n",
    "lr = LinearRegression()\n",
    "lr.fit(X, y)\n",
    "y_pred = lr.predict(X)\n",
    "print(r2_score(y,y_pred))"
   ]
  },
  {
   "cell_type": "code",
   "execution_count": 19,
   "id": "829dbc40",
   "metadata": {},
   "outputs": [],
   "source": [
    "wedding=pd.get_dummies(wedding,drop_first=True)"
   ]
  },
  {
   "cell_type": "code",
   "execution_count": 14,
   "id": "bc25430b",
   "metadata": {},
   "outputs": [
    {
     "data": {
      "text/html": [
       "<div>\n",
       "<style scoped>\n",
       "    .dataframe tbody tr th:only-of-type {\n",
       "        vertical-align: middle;\n",
       "    }\n",
       "\n",
       "    .dataframe tbody tr th {\n",
       "        vertical-align: top;\n",
       "    }\n",
       "\n",
       "    .dataframe thead th {\n",
       "        text-align: right;\n",
       "    }\n",
       "</style>\n",
       "<table border=\"1\" class=\"dataframe\">\n",
       "  <thead>\n",
       "    <tr style=\"text-align: right;\">\n",
       "      <th></th>\n",
       "      <th>Couple's Income</th>\n",
       "      <th>Bride's age</th>\n",
       "      <th>Wedding cost</th>\n",
       "      <th>Attendance</th>\n",
       "      <th>Value Rating</th>\n",
       "      <th>Payor_Bride's Parents</th>\n",
       "      <th>Payor_Groom's Parents</th>\n",
       "    </tr>\n",
       "  </thead>\n",
       "  <tbody>\n",
       "    <tr>\n",
       "      <th>0</th>\n",
       "      <td>130000</td>\n",
       "      <td>22</td>\n",
       "      <td>60700</td>\n",
       "      <td>300</td>\n",
       "      <td>3</td>\n",
       "      <td>1</td>\n",
       "      <td>0</td>\n",
       "    </tr>\n",
       "    <tr>\n",
       "      <th>1</th>\n",
       "      <td>157000</td>\n",
       "      <td>23</td>\n",
       "      <td>52000</td>\n",
       "      <td>350</td>\n",
       "      <td>1</td>\n",
       "      <td>1</td>\n",
       "      <td>0</td>\n",
       "    </tr>\n",
       "    <tr>\n",
       "      <th>2</th>\n",
       "      <td>98000</td>\n",
       "      <td>27</td>\n",
       "      <td>47000</td>\n",
       "      <td>150</td>\n",
       "      <td>3</td>\n",
       "      <td>0</td>\n",
       "      <td>0</td>\n",
       "    </tr>\n",
       "    <tr>\n",
       "      <th>3</th>\n",
       "      <td>72000</td>\n",
       "      <td>29</td>\n",
       "      <td>42000</td>\n",
       "      <td>200</td>\n",
       "      <td>5</td>\n",
       "      <td>0</td>\n",
       "      <td>0</td>\n",
       "    </tr>\n",
       "    <tr>\n",
       "      <th>4</th>\n",
       "      <td>86000</td>\n",
       "      <td>25</td>\n",
       "      <td>34000</td>\n",
       "      <td>250</td>\n",
       "      <td>3</td>\n",
       "      <td>1</td>\n",
       "      <td>0</td>\n",
       "    </tr>\n",
       "  </tbody>\n",
       "</table>\n",
       "</div>"
      ],
      "text/plain": [
       "   Couple's Income  Bride's age   Wedding cost  Attendance  Value Rating  \\\n",
       "0           130000            22         60700         300             3   \n",
       "1           157000            23         52000         350             1   \n",
       "2            98000            27         47000         150             3   \n",
       "3            72000            29         42000         200             5   \n",
       "4            86000            25         34000         250             3   \n",
       "\n",
       "   Payor_Bride's Parents  Payor_Groom's Parents  \n",
       "0                      1                      0  \n",
       "1                      1                      0  \n",
       "2                      0                      0  \n",
       "3                      0                      0  \n",
       "4                      1                      0  "
      ]
     },
     "execution_count": 14,
     "metadata": {},
     "output_type": "execute_result"
    }
   ],
   "source": [
    "wedding.head()"
   ]
  },
  {
   "cell_type": "code",
   "execution_count": 16,
   "id": "640aded5",
   "metadata": {},
   "outputs": [
    {
     "name": "stdout",
     "output_type": "stream",
     "text": [
      "0.7063824896230863\n"
     ]
    }
   ],
   "source": [
    "X = wedding[[\"Couple's Income\",\"Payor_Bride's Parents\",\"Payor_Groom's Parents\"]]\n",
    "y = wedding['Wedding cost']\n",
    "\n",
    "lr = LinearRegression()\n",
    "lr.fit(X, y)\n",
    "y_pred = lr.predict(X)\n",
    "print(r2_score(y,y_pred))"
   ]
  },
  {
   "cell_type": "code",
   "execution_count": null,
   "id": "b4f76bd8",
   "metadata": {},
   "outputs": [],
   "source": []
  }
 ],
 "metadata": {
  "kernelspec": {
   "display_name": "Python 3 (ipykernel)",
   "language": "python",
   "name": "python3"
  },
  "language_info": {
   "codemirror_mode": {
    "name": "ipython",
    "version": 3
   },
   "file_extension": ".py",
   "mimetype": "text/x-python",
   "name": "python",
   "nbconvert_exporter": "python",
   "pygments_lexer": "ipython3",
   "version": "3.9.13"
  }
 },
 "nbformat": 4,
 "nbformat_minor": 5
}
