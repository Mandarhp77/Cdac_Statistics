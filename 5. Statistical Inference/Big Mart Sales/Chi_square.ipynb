{
 "cells": [
  {
   "cell_type": "code",
   "execution_count": 2,
   "id": "2ff4c1cb",
   "metadata": {},
   "outputs": [],
   "source": [
    "import pandas as pd\n",
    "from scipy.stats import chi2_contingency"
   ]
  },
  {
   "cell_type": "code",
   "execution_count": 4,
   "id": "45dfc773",
   "metadata": {},
   "outputs": [],
   "source": [
    "housing = pd.read_csv(\"C:\\Aalesh and Mandar\\Datasets\\Housing.csv\")"
   ]
  },
  {
   "cell_type": "code",
   "execution_count": 6,
   "id": "a478fc12",
   "metadata": {},
   "outputs": [
    {
     "name": "stdout",
     "output_type": "stream",
     "text": [
      "0.25389003711306934\n"
     ]
    }
   ],
   "source": [
    "ctab=pd.crosstab(housing['prefarea'],housing['gashw'])\n",
    "test_statistic,p_value,df,expected_frequencies=chi2_contingency(ctab)\n",
    "print(p_value)"
   ]
  },
  {
   "cell_type": "code",
   "execution_count": 10,
   "id": "f23ad277",
   "metadata": {},
   "outputs": [],
   "source": [
    "tr1= pd.read_csv(\"train.csv\")"
   ]
  },
  {
   "cell_type": "code",
   "execution_count": 12,
   "id": "b2248e5a",
   "metadata": {},
   "outputs": [
    {
     "name": "stdout",
     "output_type": "stream",
     "text": [
      "1.5408537629038592e-285\n"
     ]
    }
   ],
   "source": [
    "ctab=pd.crosstab(tr1['Item_Fat_Content'],tr1['Item_Type'])\n",
    "test_statistic,p_value,df,expected_frequencies=chi2_contingency(ctab)\n",
    "print(p_value)"
   ]
  },
  {
   "cell_type": "code",
   "execution_count": 15,
   "id": "6bb1081a",
   "metadata": {},
   "outputs": [
    {
     "name": "stdout",
     "output_type": "stream",
     "text": [
      "0.9989342767300661\n"
     ]
    }
   ],
   "source": [
    "ctab=pd.crosstab(tr1['Outlet_Type'],tr1['Item_Type'])\n",
    "test_statistic,p_value,df,expected_frequencies=chi2_contingency(ctab)\n",
    "print(p_value)"
   ]
  },
  {
   "cell_type": "code",
   "execution_count": 23,
   "id": "2d6abb8d",
   "metadata": {},
   "outputs": [
    {
     "name": "stdout",
     "output_type": "stream",
     "text": [
      "0.9963035075844918\n"
     ]
    }
   ],
   "source": [
    "ctab=pd.crosstab(tr1['Outlet_Location_Type'],tr1['Item_Type'])\n",
    "test_statistic,p_value,df,expected_frequencies=chi2_contingency(ctab)\n",
    "print(p_value)"
   ]
  },
  {
   "cell_type": "markdown",
   "id": "03747642",
   "metadata": {},
   "source": [
    "$\\chi^2$ test"
   ]
  },
  {
   "cell_type": "code",
   "execution_count": null,
   "id": "16308654",
   "metadata": {},
   "outputs": [],
   "source": []
  }
 ],
 "metadata": {
  "kernelspec": {
   "display_name": "Python 3 (ipykernel)",
   "language": "python",
   "name": "python3"
  },
  "language_info": {
   "codemirror_mode": {
    "name": "ipython",
    "version": 3
   },
   "file_extension": ".py",
   "mimetype": "text/x-python",
   "name": "python",
   "nbconvert_exporter": "python",
   "pygments_lexer": "ipython3",
   "version": "3.9.13"
  }
 },
 "nbformat": 4,
 "nbformat_minor": 5
}
