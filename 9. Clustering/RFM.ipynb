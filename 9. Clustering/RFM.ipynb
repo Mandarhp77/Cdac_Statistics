{
 "cells": [
  {
   "cell_type": "code",
   "execution_count": 11,
   "id": "462f91ee",
   "metadata": {},
   "outputs": [],
   "source": [
    "import pandas as pd\n",
    "import numpy as np\n",
    "from sklearn.preprocessing import StandardScaler\n",
    "from scipy.cluster.hierarchy import linkage, dendrogram\n",
    "from sklearn.cluster import KMeans\n",
    "import matplotlib.pyplot as plt\n",
    "from sklearn.metrics import silhouette_score"
   ]
  },
  {
   "cell_type": "code",
   "execution_count": 12,
   "id": "7a342c31",
   "metadata": {},
   "outputs": [],
   "source": [
    "rfm = pd.read_csv(\"C:\\\\Aalesh and Mandar\\\\Datasets\\\\rfm_data_customer.csv\")"
   ]
  },
  {
   "cell_type": "code",
   "execution_count": 13,
   "id": "c1ff12f7",
   "metadata": {},
   "outputs": [
    {
     "data": {
      "text/html": [
       "<div>\n",
       "<style scoped>\n",
       "    .dataframe tbody tr th:only-of-type {\n",
       "        vertical-align: middle;\n",
       "    }\n",
       "\n",
       "    .dataframe tbody tr th {\n",
       "        vertical-align: top;\n",
       "    }\n",
       "\n",
       "    .dataframe thead th {\n",
       "        text-align: right;\n",
       "    }\n",
       "</style>\n",
       "<table border=\"1\" class=\"dataframe\">\n",
       "  <thead>\n",
       "    <tr style=\"text-align: right;\">\n",
       "      <th></th>\n",
       "      <th>customer_id</th>\n",
       "      <th>revenue</th>\n",
       "      <th>most_recent_visit</th>\n",
       "      <th>number_of_orders</th>\n",
       "      <th>recency_days</th>\n",
       "    </tr>\n",
       "  </thead>\n",
       "  <tbody>\n",
       "    <tr>\n",
       "      <th>0</th>\n",
       "      <td>22086</td>\n",
       "      <td>777</td>\n",
       "      <td>2006-05-14</td>\n",
       "      <td>9</td>\n",
       "      <td>232</td>\n",
       "    </tr>\n",
       "    <tr>\n",
       "      <th>1</th>\n",
       "      <td>2290</td>\n",
       "      <td>1555</td>\n",
       "      <td>2006-09-08</td>\n",
       "      <td>16</td>\n",
       "      <td>115</td>\n",
       "    </tr>\n",
       "    <tr>\n",
       "      <th>2</th>\n",
       "      <td>26377</td>\n",
       "      <td>336</td>\n",
       "      <td>2006-11-19</td>\n",
       "      <td>5</td>\n",
       "      <td>43</td>\n",
       "    </tr>\n",
       "    <tr>\n",
       "      <th>3</th>\n",
       "      <td>24650</td>\n",
       "      <td>1189</td>\n",
       "      <td>2006-10-29</td>\n",
       "      <td>12</td>\n",
       "      <td>64</td>\n",
       "    </tr>\n",
       "    <tr>\n",
       "      <th>4</th>\n",
       "      <td>12883</td>\n",
       "      <td>1229</td>\n",
       "      <td>2006-12-09</td>\n",
       "      <td>12</td>\n",
       "      <td>23</td>\n",
       "    </tr>\n",
       "  </tbody>\n",
       "</table>\n",
       "</div>"
      ],
      "text/plain": [
       "   customer_id  revenue most_recent_visit  number_of_orders  recency_days\n",
       "0        22086      777        2006-05-14                 9           232\n",
       "1         2290     1555        2006-09-08                16           115\n",
       "2        26377      336        2006-11-19                 5            43\n",
       "3        24650     1189        2006-10-29                12            64\n",
       "4        12883     1229        2006-12-09                12            23"
      ]
     },
     "execution_count": 13,
     "metadata": {},
     "output_type": "execute_result"
    }
   ],
   "source": [
    "rfm.head()"
   ]
  },
  {
   "cell_type": "code",
   "execution_count": 14,
   "id": "0de6f8b4",
   "metadata": {},
   "outputs": [],
   "source": [
    "rfm.drop([\"customer_id\"], axis = 1, inplace = True)"
   ]
  },
  {
   "cell_type": "code",
   "execution_count": 15,
   "id": "2606615d",
   "metadata": {},
   "outputs": [],
   "source": [
    "rfm.drop([\"most_recent_visit\"], axis = 1, inplace = True)"
   ]
  },
  {
   "cell_type": "code",
   "execution_count": 16,
   "id": "b2e43565",
   "metadata": {},
   "outputs": [
    {
     "data": {
      "text/html": [
       "<div>\n",
       "<style scoped>\n",
       "    .dataframe tbody tr th:only-of-type {\n",
       "        vertical-align: middle;\n",
       "    }\n",
       "\n",
       "    .dataframe tbody tr th {\n",
       "        vertical-align: top;\n",
       "    }\n",
       "\n",
       "    .dataframe thead th {\n",
       "        text-align: right;\n",
       "    }\n",
       "</style>\n",
       "<table border=\"1\" class=\"dataframe\">\n",
       "  <thead>\n",
       "    <tr style=\"text-align: right;\">\n",
       "      <th></th>\n",
       "      <th>revenue</th>\n",
       "      <th>number_of_orders</th>\n",
       "      <th>recency_days</th>\n",
       "    </tr>\n",
       "  </thead>\n",
       "  <tbody>\n",
       "    <tr>\n",
       "      <th>0</th>\n",
       "      <td>777</td>\n",
       "      <td>9</td>\n",
       "      <td>232</td>\n",
       "    </tr>\n",
       "    <tr>\n",
       "      <th>1</th>\n",
       "      <td>1555</td>\n",
       "      <td>16</td>\n",
       "      <td>115</td>\n",
       "    </tr>\n",
       "    <tr>\n",
       "      <th>2</th>\n",
       "      <td>336</td>\n",
       "      <td>5</td>\n",
       "      <td>43</td>\n",
       "    </tr>\n",
       "    <tr>\n",
       "      <th>3</th>\n",
       "      <td>1189</td>\n",
       "      <td>12</td>\n",
       "      <td>64</td>\n",
       "    </tr>\n",
       "    <tr>\n",
       "      <th>4</th>\n",
       "      <td>1229</td>\n",
       "      <td>12</td>\n",
       "      <td>23</td>\n",
       "    </tr>\n",
       "  </tbody>\n",
       "</table>\n",
       "</div>"
      ],
      "text/plain": [
       "   revenue  number_of_orders  recency_days\n",
       "0      777                 9           232\n",
       "1     1555                16           115\n",
       "2      336                 5            43\n",
       "3     1189                12            64\n",
       "4     1229                12            23"
      ]
     },
     "execution_count": 16,
     "metadata": {},
     "output_type": "execute_result"
    }
   ],
   "source": [
    "rfm.head()"
   ]
  },
  {
   "cell_type": "code",
   "execution_count": 18,
   "id": "c1e99566",
   "metadata": {},
   "outputs": [],
   "source": [
    "scalar = StandardScaler()"
   ]
  },
  {
   "cell_type": "code",
   "execution_count": 20,
   "id": "51f689fe",
   "metadata": {},
   "outputs": [
    {
     "data": {
      "text/plain": [
       "array([[-0.46459975, -0.26567604,  0.38587806],\n",
       "       [ 1.77410983,  1.97275169, -0.50658145],\n",
       "       [-1.73358552, -1.54477759, -1.05578731],\n",
       "       ...,\n",
       "       [ 0.22312723, -0.26567604, -0.20909495],\n",
       "       [-0.7494741 , -0.90522681,  0.10364727],\n",
       "       [ 1.67051916,  1.01342552, -0.52183717]])"
      ]
     },
     "execution_count": 20,
     "metadata": {},
     "output_type": "execute_result"
    }
   ],
   "source": [
    "scaled_rfm = scalar.fit_transform(rfm)\n",
    "scaled_rfm"
   ]
  },
  {
   "cell_type": "code",
   "execution_count": 22,
   "id": "ed7ddb7c",
   "metadata": {},
   "outputs": [
    {
     "data": {
      "text/plain": [
       "KMeans(n_clusters=4, random_state=100)"
      ]
     },
     "execution_count": 22,
     "metadata": {},
     "output_type": "execute_result"
    }
   ],
   "source": [
    "km = KMeans(n_clusters=4, random_state = 100)\n",
    "km.fit(scaled_rfm)"
   ]
  },
  {
   "cell_type": "code",
   "execution_count": 23,
   "id": "b18c09ce",
   "metadata": {},
   "outputs": [],
   "source": [
    "labels = km.predict(scaled_rfm)"
   ]
  },
  {
   "cell_type": "code",
   "execution_count": 24,
   "id": "19b95cb1",
   "metadata": {},
   "outputs": [],
   "source": [
    "rfm[\"Cluster\"] = labels"
   ]
  },
  {
   "cell_type": "code",
   "execution_count": 33,
   "id": "b57e0e74",
   "metadata": {},
   "outputs": [
    {
     "data": {
      "text/html": [
       "<div>\n",
       "<style scoped>\n",
       "    .dataframe tbody tr th:only-of-type {\n",
       "        vertical-align: middle;\n",
       "    }\n",
       "\n",
       "    .dataframe tbody tr th {\n",
       "        vertical-align: top;\n",
       "    }\n",
       "\n",
       "    .dataframe thead th {\n",
       "        text-align: right;\n",
       "    }\n",
       "</style>\n",
       "<table border=\"1\" class=\"dataframe\">\n",
       "  <thead>\n",
       "    <tr style=\"text-align: right;\">\n",
       "      <th></th>\n",
       "      <th>revenue</th>\n",
       "      <th>number_of_orders</th>\n",
       "      <th>recency_days</th>\n",
       "      <th>Cluster</th>\n",
       "    </tr>\n",
       "  </thead>\n",
       "  <tbody>\n",
       "    <tr>\n",
       "      <th>0</th>\n",
       "      <td>777</td>\n",
       "      <td>9</td>\n",
       "      <td>232</td>\n",
       "      <td>1</td>\n",
       "    </tr>\n",
       "    <tr>\n",
       "      <th>1</th>\n",
       "      <td>1555</td>\n",
       "      <td>16</td>\n",
       "      <td>115</td>\n",
       "      <td>0</td>\n",
       "    </tr>\n",
       "    <tr>\n",
       "      <th>2</th>\n",
       "      <td>336</td>\n",
       "      <td>5</td>\n",
       "      <td>43</td>\n",
       "      <td>1</td>\n",
       "    </tr>\n",
       "    <tr>\n",
       "      <th>3</th>\n",
       "      <td>1189</td>\n",
       "      <td>12</td>\n",
       "      <td>64</td>\n",
       "      <td>3</td>\n",
       "    </tr>\n",
       "    <tr>\n",
       "      <th>4</th>\n",
       "      <td>1229</td>\n",
       "      <td>12</td>\n",
       "      <td>23</td>\n",
       "      <td>3</td>\n",
       "    </tr>\n",
       "    <tr>\n",
       "      <th>5</th>\n",
       "      <td>929</td>\n",
       "      <td>11</td>\n",
       "      <td>72</td>\n",
       "      <td>3</td>\n",
       "    </tr>\n",
       "    <tr>\n",
       "      <th>6</th>\n",
       "      <td>1569</td>\n",
       "      <td>17</td>\n",
       "      <td>112</td>\n",
       "      <td>0</td>\n",
       "    </tr>\n",
       "    <tr>\n",
       "      <th>7</th>\n",
       "      <td>778</td>\n",
       "      <td>11</td>\n",
       "      <td>142</td>\n",
       "      <td>3</td>\n",
       "    </tr>\n",
       "    <tr>\n",
       "      <th>8</th>\n",
       "      <td>641</td>\n",
       "      <td>9</td>\n",
       "      <td>43</td>\n",
       "      <td>1</td>\n",
       "    </tr>\n",
       "    <tr>\n",
       "      <th>9</th>\n",
       "      <td>970</td>\n",
       "      <td>10</td>\n",
       "      <td>131</td>\n",
       "      <td>3</td>\n",
       "    </tr>\n",
       "    <tr>\n",
       "      <th>10</th>\n",
       "      <td>730</td>\n",
       "      <td>9</td>\n",
       "      <td>266</td>\n",
       "      <td>1</td>\n",
       "    </tr>\n",
       "    <tr>\n",
       "      <th>11</th>\n",
       "      <td>798</td>\n",
       "      <td>9</td>\n",
       "      <td>371</td>\n",
       "      <td>2</td>\n",
       "    </tr>\n",
       "    <tr>\n",
       "      <th>12</th>\n",
       "      <td>980</td>\n",
       "      <td>10</td>\n",
       "      <td>96</td>\n",
       "      <td>3</td>\n",
       "    </tr>\n",
       "    <tr>\n",
       "      <th>13</th>\n",
       "      <td>1596</td>\n",
       "      <td>14</td>\n",
       "      <td>170</td>\n",
       "      <td>0</td>\n",
       "    </tr>\n",
       "    <tr>\n",
       "      <th>14</th>\n",
       "      <td>1105</td>\n",
       "      <td>13</td>\n",
       "      <td>333</td>\n",
       "      <td>3</td>\n",
       "    </tr>\n",
       "    <tr>\n",
       "      <th>15</th>\n",
       "      <td>673</td>\n",
       "      <td>7</td>\n",
       "      <td>126</td>\n",
       "      <td>1</td>\n",
       "    </tr>\n",
       "    <tr>\n",
       "      <th>16</th>\n",
       "      <td>793</td>\n",
       "      <td>7</td>\n",
       "      <td>18</td>\n",
       "      <td>1</td>\n",
       "    </tr>\n",
       "    <tr>\n",
       "      <th>17</th>\n",
       "      <td>652</td>\n",
       "      <td>8</td>\n",
       "      <td>246</td>\n",
       "      <td>1</td>\n",
       "    </tr>\n",
       "    <tr>\n",
       "      <th>18</th>\n",
       "      <td>1081</td>\n",
       "      <td>12</td>\n",
       "      <td>133</td>\n",
       "      <td>3</td>\n",
       "    </tr>\n",
       "    <tr>\n",
       "      <th>19</th>\n",
       "      <td>712</td>\n",
       "      <td>8</td>\n",
       "      <td>181</td>\n",
       "      <td>1</td>\n",
       "    </tr>\n",
       "    <tr>\n",
       "      <th>20</th>\n",
       "      <td>1060</td>\n",
       "      <td>11</td>\n",
       "      <td>161</td>\n",
       "      <td>3</td>\n",
       "    </tr>\n",
       "    <tr>\n",
       "      <th>21</th>\n",
       "      <td>790</td>\n",
       "      <td>9</td>\n",
       "      <td>152</td>\n",
       "      <td>1</td>\n",
       "    </tr>\n",
       "    <tr>\n",
       "      <th>22</th>\n",
       "      <td>1248</td>\n",
       "      <td>13</td>\n",
       "      <td>231</td>\n",
       "      <td>0</td>\n",
       "    </tr>\n",
       "    <tr>\n",
       "      <th>23</th>\n",
       "      <td>789</td>\n",
       "      <td>9</td>\n",
       "      <td>284</td>\n",
       "      <td>2</td>\n",
       "    </tr>\n",
       "    <tr>\n",
       "      <th>24</th>\n",
       "      <td>794</td>\n",
       "      <td>8</td>\n",
       "      <td>156</td>\n",
       "      <td>1</td>\n",
       "    </tr>\n",
       "    <tr>\n",
       "      <th>25</th>\n",
       "      <td>700</td>\n",
       "      <td>10</td>\n",
       "      <td>101</td>\n",
       "      <td>3</td>\n",
       "    </tr>\n",
       "    <tr>\n",
       "      <th>26</th>\n",
       "      <td>855</td>\n",
       "      <td>10</td>\n",
       "      <td>150</td>\n",
       "      <td>3</td>\n",
       "    </tr>\n",
       "    <tr>\n",
       "      <th>27</th>\n",
       "      <td>793</td>\n",
       "      <td>6</td>\n",
       "      <td>201</td>\n",
       "      <td>1</td>\n",
       "    </tr>\n",
       "    <tr>\n",
       "      <th>28</th>\n",
       "      <td>793</td>\n",
       "      <td>11</td>\n",
       "      <td>124</td>\n",
       "      <td>3</td>\n",
       "    </tr>\n",
       "    <tr>\n",
       "      <th>29</th>\n",
       "      <td>1220</td>\n",
       "      <td>14</td>\n",
       "      <td>154</td>\n",
       "      <td>0</td>\n",
       "    </tr>\n",
       "  </tbody>\n",
       "</table>\n",
       "</div>"
      ],
      "text/plain": [
       "    revenue  number_of_orders  recency_days  Cluster\n",
       "0       777                 9           232        1\n",
       "1      1555                16           115        0\n",
       "2       336                 5            43        1\n",
       "3      1189                12            64        3\n",
       "4      1229                12            23        3\n",
       "5       929                11            72        3\n",
       "6      1569                17           112        0\n",
       "7       778                11           142        3\n",
       "8       641                 9            43        1\n",
       "9       970                10           131        3\n",
       "10      730                 9           266        1\n",
       "11      798                 9           371        2\n",
       "12      980                10            96        3\n",
       "13     1596                14           170        0\n",
       "14     1105                13           333        3\n",
       "15      673                 7           126        1\n",
       "16      793                 7            18        1\n",
       "17      652                 8           246        1\n",
       "18     1081                12           133        3\n",
       "19      712                 8           181        1\n",
       "20     1060                11           161        3\n",
       "21      790                 9           152        1\n",
       "22     1248                13           231        0\n",
       "23      789                 9           284        2\n",
       "24      794                 8           156        1\n",
       "25      700                10           101        3\n",
       "26      855                10           150        3\n",
       "27      793                 6           201        1\n",
       "28      793                11           124        3\n",
       "29     1220                14           154        0"
      ]
     },
     "execution_count": 33,
     "metadata": {},
     "output_type": "execute_result"
    }
   ],
   "source": [
    "rfm.head(30)"
   ]
  },
  {
   "cell_type": "code",
   "execution_count": 27,
   "id": "2b91d64d",
   "metadata": {},
   "outputs": [
    {
     "data": {
      "text/html": [
       "<div>\n",
       "<style scoped>\n",
       "    .dataframe tbody tr th:only-of-type {\n",
       "        vertical-align: middle;\n",
       "    }\n",
       "\n",
       "    .dataframe tbody tr th {\n",
       "        vertical-align: top;\n",
       "    }\n",
       "\n",
       "    .dataframe thead th {\n",
       "        text-align: right;\n",
       "    }\n",
       "</style>\n",
       "<table border=\"1\" class=\"dataframe\">\n",
       "  <thead>\n",
       "    <tr style=\"text-align: right;\">\n",
       "      <th></th>\n",
       "      <th>revenue</th>\n",
       "      <th>number_of_orders</th>\n",
       "      <th>recency_days</th>\n",
       "    </tr>\n",
       "    <tr>\n",
       "      <th>Cluster</th>\n",
       "      <th></th>\n",
       "      <th></th>\n",
       "      <th></th>\n",
       "    </tr>\n",
       "  </thead>\n",
       "  <tbody>\n",
       "    <tr>\n",
       "      <th>0</th>\n",
       "      <td>1451.454114</td>\n",
       "      <td>14.350413</td>\n",
       "      <td>131.660296</td>\n",
       "    </tr>\n",
       "    <tr>\n",
       "      <th>1</th>\n",
       "      <td>627.224118</td>\n",
       "      <td>7.088421</td>\n",
       "      <td>144.518617</td>\n",
       "    </tr>\n",
       "    <tr>\n",
       "      <th>2</th>\n",
       "      <td>709.494548</td>\n",
       "      <td>7.491782</td>\n",
       "      <td>427.695037</td>\n",
       "    </tr>\n",
       "    <tr>\n",
       "      <th>3</th>\n",
       "      <td>1012.350631</td>\n",
       "      <td>10.611994</td>\n",
       "      <td>133.380649</td>\n",
       "    </tr>\n",
       "  </tbody>\n",
       "</table>\n",
       "</div>"
      ],
      "text/plain": [
       "             revenue  number_of_orders  recency_days\n",
       "Cluster                                             \n",
       "0        1451.454114         14.350413    131.660296\n",
       "1         627.224118          7.088421    144.518617\n",
       "2         709.494548          7.491782    427.695037\n",
       "3        1012.350631         10.611994    133.380649"
      ]
     },
     "execution_count": 27,
     "metadata": {},
     "output_type": "execute_result"
    }
   ],
   "source": [
    "rfm.groupby(\"Cluster\").mean()"
   ]
  },
  {
   "cell_type": "code",
   "execution_count": 28,
   "id": "69922ff9",
   "metadata": {},
   "outputs": [
    {
     "data": {
      "text/plain": [
       "37406.51109121197"
      ]
     },
     "execution_count": 28,
     "metadata": {},
     "output_type": "execute_result"
    }
   ],
   "source": [
    "km.inertia_"
   ]
  },
  {
   "cell_type": "code",
   "execution_count": 29,
   "id": "7246b631",
   "metadata": {},
   "outputs": [],
   "source": [
    "wss = []\n",
    "for i in np.arange(2,10):\n",
    "    km=KMeans(n_clusters = i, random_state=2022)\n",
    "    km.fit(scaled_rfm)\n",
    "    wss.append(km.inertia_)"
   ]
  },
  {
   "cell_type": "code",
   "execution_count": 30,
   "id": "b5aea891",
   "metadata": {},
   "outputs": [
    {
     "data": {
      "text/plain": [
       "[<matplotlib.lines.Line2D at 0x14482b3100>]"
      ]
     },
     "execution_count": 30,
     "metadata": {},
     "output_type": "execute_result"
    },
    {
     "data": {
      "image/png": "[encoded data removed]",
      "text/plain": [
       "<Figure size 640x480 with 1 Axes>"
      ]
     },
     "metadata": {},
     "output_type": "display_data"
    }
   ],
   "source": [
    "plt.scatter(np.arange(2,10), wss)\n",
    "plt.plot(np.arange(2,10), wss)"
   ]
  },
  {
   "cell_type": "code",
   "execution_count": 31,
   "id": "10bc2a6a",
   "metadata": {},
   "outputs": [],
   "source": [
    "sil = []\n",
    "for i in np.arange(2,10):\n",
    "    km=KMeans(n_clusters = i, random_state=2022)\n",
    "    km.fit(scaled_rfm)\n",
    "    labels = km.predict(scaled_rfm)\n",
    "    sil.append(silhouette_score(scaled_rfm, labels))"
   ]
  },
  {
   "cell_type": "code",
   "execution_count": 32,
   "id": "616cd977",
   "metadata": {},
   "outputs": [
    {
     "name": "stdout",
     "output_type": "stream",
     "text": [
      "Best K =  3\n"
     ]
    }
   ],
   "source": [
    "ks = np.arange(2,10)\n",
    "i_max = np.argmax(sil)\n",
    "best_k = ks[i_max]\n",
    "print(\"Best K = \",best_k)"
   ]
  },
  {
   "cell_type": "code",
   "execution_count": null,
   "id": "6ff4a85b",
   "metadata": {},
   "outputs": [],
   "source": []
  }
 ],
 "metadata": {
  "kernelspec": {
   "display_name": "Python 3 (ipykernel)",
   "language": "python",
   "name": "python3"
  },
  "language_info": {
   "codemirror_mode": {
    "name": "ipython",
    "version": 3
   },
   "file_extension": ".py",
   "mimetype": "text/x-python",
   "name": "python",
   "nbconvert_exporter": "python",
   "pygments_lexer": "ipython3",
   "version": "3.9.13"
  }
 },
 "nbformat": 4,
 "nbformat_minor": 5
}
