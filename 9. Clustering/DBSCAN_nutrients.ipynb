{
 "cells": [
  {
   "cell_type": "code",
   "execution_count": 23,
   "id": "462f91ee",
   "metadata": {},
   "outputs": [],
   "source": [
    "import pandas as pd\n",
    "import numpy as np\n",
    "from sklearn.preprocessing import StandardScaler\n",
    "from scipy.cluster.hierarchy import linkage, dendrogram\n",
    "from sklearn.cluster import KMeans\n",
    "import matplotlib.pyplot as plt\n",
    "from sklearn.metrics import silhouette_score\n",
    "from sklearn.cluster import DBSCAN"
   ]
  },
  {
   "cell_type": "code",
   "execution_count": 24,
   "id": "7a342c31",
   "metadata": {},
   "outputs": [],
   "source": [
    "nutr = pd.read_csv(r\"C:\\Aalesh and Mandar\\Stastistics\\Datasets\\nutrient.csv\",index_col=0)"
   ]
  },
  {
   "cell_type": "code",
   "execution_count": 25,
   "id": "c1ff12f7",
   "metadata": {},
   "outputs": [
    {
     "data": {
      "text/html": [
       "<div>\n",
       "<style scoped>\n",
       "    .dataframe tbody tr th:only-of-type {\n",
       "        vertical-align: middle;\n",
       "    }\n",
       "\n",
       "    .dataframe tbody tr th {\n",
       "        vertical-align: top;\n",
       "    }\n",
       "\n",
       "    .dataframe thead th {\n",
       "        text-align: right;\n",
       "    }\n",
       "</style>\n",
       "<table border=\"1\" class=\"dataframe\">\n",
       "  <thead>\n",
       "    <tr style=\"text-align: right;\">\n",
       "      <th></th>\n",
       "      <th>energy</th>\n",
       "      <th>protein</th>\n",
       "      <th>fat</th>\n",
       "      <th>calcium</th>\n",
       "      <th>iron</th>\n",
       "    </tr>\n",
       "    <tr>\n",
       "      <th>Food_Item</th>\n",
       "      <th></th>\n",
       "      <th></th>\n",
       "      <th></th>\n",
       "      <th></th>\n",
       "      <th></th>\n",
       "    </tr>\n",
       "  </thead>\n",
       "  <tbody>\n",
       "    <tr>\n",
       "      <th>BEEF BRAISED</th>\n",
       "      <td>340</td>\n",
       "      <td>20</td>\n",
       "      <td>28</td>\n",
       "      <td>9</td>\n",
       "      <td>2.6</td>\n",
       "    </tr>\n",
       "    <tr>\n",
       "      <th>HAMBURGER</th>\n",
       "      <td>245</td>\n",
       "      <td>21</td>\n",
       "      <td>17</td>\n",
       "      <td>9</td>\n",
       "      <td>2.7</td>\n",
       "    </tr>\n",
       "    <tr>\n",
       "      <th>BEEF ROAST</th>\n",
       "      <td>420</td>\n",
       "      <td>15</td>\n",
       "      <td>39</td>\n",
       "      <td>7</td>\n",
       "      <td>2.0</td>\n",
       "    </tr>\n",
       "    <tr>\n",
       "      <th>BEEF STEAK</th>\n",
       "      <td>375</td>\n",
       "      <td>19</td>\n",
       "      <td>32</td>\n",
       "      <td>9</td>\n",
       "      <td>2.6</td>\n",
       "    </tr>\n",
       "    <tr>\n",
       "      <th>BEEF CANNED</th>\n",
       "      <td>180</td>\n",
       "      <td>22</td>\n",
       "      <td>10</td>\n",
       "      <td>17</td>\n",
       "      <td>3.7</td>\n",
       "    </tr>\n",
       "  </tbody>\n",
       "</table>\n",
       "</div>"
      ],
      "text/plain": [
       "              energy  protein  fat  calcium  iron\n",
       "Food_Item                                        \n",
       "BEEF BRAISED     340       20   28        9   2.6\n",
       "HAMBURGER        245       21   17        9   2.7\n",
       "BEEF ROAST       420       15   39        7   2.0\n",
       "BEEF STEAK       375       19   32        9   2.6\n",
       "BEEF CANNED      180       22   10       17   3.7"
      ]
     },
     "execution_count": 25,
     "metadata": {},
     "output_type": "execute_result"
    }
   ],
   "source": [
    "nutr.head()"
   ]
  },
  {
   "cell_type": "code",
   "execution_count": 26,
   "id": "c1e99566",
   "metadata": {},
   "outputs": [],
   "source": [
    "scalar = StandardScaler()"
   ]
  },
  {
   "cell_type": "code",
   "execution_count": 27,
   "id": "51f689fe",
   "metadata": {},
   "outputs": [
    {
     "data": {
      "text/plain": [
       "array([[ 1.33505901,  0.23968064,  1.31429714, -0.45658134,  0.1523851 ],\n",
       "       [ 0.37851533,  0.47936128,  0.31851589, -0.45658134,  0.22212065],\n",
       "       [ 2.14056947, -0.95872255,  2.31007839, -0.48269934, -0.26602823],\n",
       "       [ 1.68746984,  0.        ,  1.67639941, -0.45658134,  0.1523851 ],\n",
       "       [-0.27596192,  0.71904192, -0.31516309, -0.35210934,  0.9194762 ],\n",
       "       [-0.93043917,  0.23968064, -0.94884207, -0.46964034, -0.68444155],\n",
       "       [-0.37665073,  1.43808383, -0.58673979, -0.41740434, -0.614706  ],\n",
       "       [-0.47733953,  1.67776447, -0.76779093, -0.39128634,  2.45365839],\n",
       "       [ 0.57989295,  0.23968064,  0.59009259, -0.45658134,  0.1523851 ],\n",
       "       [ 0.93230378, -0.23968064,  1.04272043, -0.45658134, -0.05682156],\n",
       "       [ 1.33505901,  0.23968064,  1.31429714, -0.45658134,  0.08264955],\n",
       "       [ 1.33505901,  0.        ,  1.40482271, -0.45658134,  0.08264955],\n",
       "       [ 1.48609222,  0.        ,  1.49534827, -0.45658134,  0.01291399],\n",
       "       [-0.0242399 , -0.23968064,  0.04693918, -0.48269934,  0.08264955],\n",
       "       [-0.22561751,  0.95872255, -0.40568866, -0.45658134,  0.22212065],\n",
       "       [-0.72906155,  0.71904192, -0.8583165 , -0.24763734, -1.24232598],\n",
       "       [-1.3835388 , -1.91744511, -1.1298932 ,  0.49672567,  2.52339394],\n",
       "       [-1.63526082, -2.87616766, -1.1298932 ,  0.39225367,  2.10498062],\n",
       "       [-1.18216119, -1.19840319, -1.03936763, -0.07787033, -1.10285487],\n",
       "       [-0.72906155, -0.71904192, -0.76779093, -0.37822734, -1.31206154],\n",
       "       [-0.0745843 ,  0.        , -0.04358638, -0.50881734, -0.96338377],\n",
       "       [-0.52768394, -0.71904192, -0.40568866,  1.47615069, -0.40549933],\n",
       "       [-0.12492871, -0.71904192, -0.22463752, -0.39128634, -0.7541771 ],\n",
       "       [-0.88009477, -0.47936128, -0.76779093,  1.50226869, -1.17259043],\n",
       "       [-0.27596192,  0.71904192, -0.40568866,  4.21854072,  0.08264955],\n",
       "       [-0.37665073,  1.43808383, -0.58673979, -0.48269934, -0.82391266],\n",
       "       [-0.98078357,  0.95872255, -1.1298932 ,  0.70566968,  0.1523851 ]])"
      ]
     },
     "execution_count": 27,
     "metadata": {},
     "output_type": "execute_result"
    }
   ],
   "source": [
    "scaled_nutrient = scalar.fit_transform(nutr)\n",
    "scaled_nutrient"
   ]
  },
  {
   "cell_type": "code",
   "execution_count": 37,
   "id": "6ff4a85b",
   "metadata": {},
   "outputs": [
    {
     "name": "stdout",
     "output_type": "stream",
     "text": [
      "[ 0  0  0  0  0  0  0  0  0  0  0  0  0  0  0  0 -1 -1  0  0  0  0  0  0\n",
      " -1  0  0]\n"
     ]
    }
   ],
   "source": [
    "clust_DB = DBSCAN(eps=2, min_samples=3)\n",
    "clust_DB.fit(scaled_nutrient)\n",
    "print(clust_DB.labels_)"
   ]
  },
  {
   "cell_type": "code",
   "execution_count": 31,
   "id": "6f8cbd4d",
   "metadata": {},
   "outputs": [
    {
     "name": "stdout",
     "output_type": "stream",
     "text": [
      "0.1 2 -0.02735549170877693\n",
      "0.2 2 0.05280787405162813\n",
      "0.3 2 -0.012439686716746152\n",
      "0.3 3 0.12076101539074768\n",
      "0.3 4 0.12076101539074768\n",
      "0.4 2 0.058411637469625126\n",
      "0.4 3 0.2056070401695639\n",
      "0.4 4 0.2056070401695639\n",
      "0.4 5 0.2056070401695639\n",
      "0.6 2 0.05811732939397669\n",
      "0.6 3 0.2056070401695639\n",
      "0.6 4 0.2056070401695639\n",
      "0.6 5 0.2056070401695639\n",
      "1 2 0.26030469532578543\n",
      "1 3 0.22316406521412185\n",
      "1 4 0.23163838121023878\n",
      "1 5 0.24387369843497325\n",
      "Best Paramters:\n"
     ]
    },
    {
     "data": {
      "text/html": [
       "<div>\n",
       "<style scoped>\n",
       "    .dataframe tbody tr th:only-of-type {\n",
       "        vertical-align: middle;\n",
       "    }\n",
       "\n",
       "    .dataframe tbody tr th {\n",
       "        vertical-align: top;\n",
       "    }\n",
       "\n",
       "    .dataframe thead th {\n",
       "        text-align: right;\n",
       "    }\n",
       "</style>\n",
       "<table border=\"1\" class=\"dataframe\">\n",
       "  <thead>\n",
       "    <tr style=\"text-align: right;\">\n",
       "      <th></th>\n",
       "      <th>Sr</th>\n",
       "      <th>eps</th>\n",
       "      <th>min_pt</th>\n",
       "      <th>sil</th>\n",
       "    </tr>\n",
       "  </thead>\n",
       "  <tbody>\n",
       "    <tr>\n",
       "      <th>13</th>\n",
       "      <td>14.0</td>\n",
       "      <td>1.0</td>\n",
       "      <td>2.0</td>\n",
       "      <td>0.260305</td>\n",
       "    </tr>\n",
       "  </tbody>\n",
       "</table>\n",
       "</div>"
      ],
      "text/plain": [
       "      Sr  eps  min_pt       sil\n",
       "13  14.0  1.0     2.0  0.260305"
      ]
     },
     "execution_count": 31,
     "metadata": {},
     "output_type": "execute_result"
    }
   ],
   "source": [
    "eps_range = [0.1,0.2,0.3,0.4,0.6,1]\n",
    "mp_range = [2,3,4,5]\n",
    "cnt = 0\n",
    "a =[]\n",
    "for i in eps_range:\n",
    "    for j in mp_range:\n",
    "        clust_DB = DBSCAN(eps=i, min_samples=j)\n",
    "        clust_DB.fit(scaled_nutrient)\n",
    "        if len(set(clust_DB.labels_)) >= 2:\n",
    "            cnt = cnt + 1\n",
    "            sil_sc = silhouette_score(scaled_nutrient,clust_DB.labels_)\n",
    "            a.append([cnt,i,j,sil_sc])\n",
    "            print(i,j,sil_sc)\n",
    " \n",
    "a = np.array(a)\n",
    "pa = pd.DataFrame(a,columns=['Sr','eps','min_pt','sil'])\n",
    "print(\"Best Paramters:\")\n",
    "pa[pa['sil'] == pa['sil'].max()]"
   ]
  },
  {
   "cell_type": "code",
   "execution_count": null,
   "id": "e1a74604",
   "metadata": {},
   "outputs": [],
   "source": []
  },
  {
   "cell_type": "code",
   "execution_count": null,
   "id": "aefb02d5",
   "metadata": {},
   "outputs": [],
   "source": []
  },
  {
   "cell_type": "code",
   "execution_count": null,
   "id": "9a228b75",
   "metadata": {},
   "outputs": [],
   "source": []
  }
 ],
 "metadata": {
  "kernelspec": {
   "display_name": "Python 3 (ipykernel)",
   "language": "python",
   "name": "python3"
  },
  "language_info": {
   "codemirror_mode": {
    "name": "ipython",
    "version": 3
   },
   "file_extension": ".py",
   "mimetype": "text/x-python",
   "name": "python",
   "nbconvert_exporter": "python",
   "pygments_lexer": "ipython3",
   "version": "3.9.13"
  }
 },
 "nbformat": 4,
 "nbformat_minor": 5
}
