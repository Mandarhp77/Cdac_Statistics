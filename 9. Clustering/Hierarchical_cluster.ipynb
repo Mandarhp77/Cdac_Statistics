{
 "cells": [
  {
   "cell_type": "code",
   "execution_count": 24,
   "id": "f1087ae6",
   "metadata": {},
   "outputs": [],
   "source": [
    "import pandas as pd\n",
    "import numpy as np\n",
    "from sklearn.preprocessing import StandardScaler\n",
    "from scipy.cluster.hierarchy import linkage, dendrogram\n",
    "import matplotlib.pyplot as plt"
   ]
  },
  {
   "cell_type": "code",
   "execution_count": 9,
   "id": "7226b590",
   "metadata": {},
   "outputs": [],
   "source": [
    "milk = pd.read_csv(\"C:\\Aalesh and Mandar\\Datasets\\milk.csv\", index_col = 0)"
   ]
  },
  {
   "cell_type": "code",
   "execution_count": 10,
   "id": "943878e5",
   "metadata": {},
   "outputs": [],
   "source": [
    "scalar = StandardScaler()"
   ]
  },
  {
   "cell_type": "code",
   "execution_count": 11,
   "id": "667c4985",
   "metadata": {},
   "outputs": [],
   "source": [
    "scaled_milk = scalar.fit_transform(milk)"
   ]
  },
  {
   "cell_type": "code",
   "execution_count": 12,
   "id": "97204865",
   "metadata": {},
   "outputs": [
    {
     "data": {
      "text/plain": [
       "array([[ 0.94880628, -1.00929078, -0.90320785,  1.54221661, -1.03755398],\n",
       "       [ 0.82140698, -1.34460333, -0.66061872,  1.04077335, -1.25994474],\n",
       "       [ 0.81344452, -1.12106163, -0.73824724,  1.26363702, -1.38124879],\n",
       "       [ 0.96473119, -1.26077519, -0.86439359,  1.15220518, -0.93646727],\n",
       "       [ 0.97269365, -1.56814503, -0.56358307,  0.14931866, -1.54298752],\n",
       "       [ 0.75770733, -0.75780637, -0.67032229,  0.37218233, -0.30972968],\n",
       "       [ 0.69400768, -0.3945511 , -0.83528289,  0.87362559,  0.07439982],\n",
       "       [ 0.31180978, -0.08718126, -0.23366185,  0.31646641, -0.16820828],\n",
       "       [ 0.29588487,  0.33195943, -0.30158681, -0.79785195, -0.02668689],\n",
       "       [ 0.2719975 ,  1.08641267, -0.38891889,  0.14931866, -0.22886031],\n",
       "       [ 0.2719975 ,  0.10841772, -0.42773316,  0.42789825,  0.13505184],\n",
       "       [ 0.66215786, -0.64603552, -0.68972942,  0.81790968, -0.1277736 ],\n",
       "       [ 0.94084382, -1.17694705, -0.82557933,  0.76219376, -0.79494588],\n",
       "       [ 0.36754698,  0.24813129, -0.50536168, -0.24069277,  0.47874665],\n",
       "       [ 0.63827049, -0.89751993, -0.53447237,  0.65076192, -0.32994702],\n",
       "       [ 0.30384733, -0.1710094 , -0.37921533,  0.31646641,  0.09461716],\n",
       "       [-0.15001267,  0.86287096, -0.07840481, -0.63070419,  0.68092007],\n",
       "       [-0.59591022, -0.72986365,  0.70758398,  0.81790968, -0.47146841],\n",
       "       [-0.54813548,  1.70115234,  0.27092354, -1.24357929,  2.90482766],\n",
       "       [-0.45258601,  0.83492825,  0.22240572, -0.46355644,  1.08526691],\n",
       "       [-0.97810812,  1.1702408 ,  0.91135885, -0.85356786,  1.08526691],\n",
       "       [-1.06569514,  1.25406894,  0.96958024, -0.90928378,  1.08526691],\n",
       "       [-1.06569514,  1.36583979,  1.05691232, -1.41072704,  1.69178716],\n",
       "       [-2.53078707,  0.97464182,  3.07525389, -2.30218173, -0.02668689],\n",
       "       [-2.65022392,  1.22612623,  2.38630076, -1.80073847, -0.67364183]])"
      ]
     },
     "execution_count": 12,
     "metadata": {},
     "output_type": "execute_result"
    }
   ],
   "source": [
    "scaled_milk"
   ]
  },
  {
   "cell_type": "code",
   "execution_count": 14,
   "id": "28bd62af",
   "metadata": {},
   "outputs": [
    {
     "data": {
      "text/plain": [
       "(25, 5)"
      ]
     },
     "execution_count": 14,
     "metadata": {},
     "output_type": "execute_result"
    }
   ],
   "source": [
    "scaled_milk.shape"
   ]
  },
  {
   "cell_type": "code",
   "execution_count": 16,
   "id": "227dd810",
   "metadata": {},
   "outputs": [
    {
     "data": {
      "text/plain": [
       "(25, 5)"
      ]
     },
     "execution_count": 16,
     "metadata": {},
     "output_type": "execute_result"
    }
   ],
   "source": [
    "milk.shape"
   ]
  },
  {
   "cell_type": "code",
   "execution_count": 21,
   "id": "054ac18f",
   "metadata": {},
   "outputs": [],
   "source": [
    "margings = linkage(scaled_milk, method=\"average\")"
   ]
  },
  {
   "cell_type": "code",
   "execution_count": 25,
   "id": "c6c6bd4a",
   "metadata": {},
   "outputs": [
    {
     "data": {
      "image/png": "[encoded data removed]",
      "text/plain": [
       "<Figure size 640x480 with 1 Axes>"
      ]
     },
     "metadata": {},
     "output_type": "display_data"
    }
   ],
   "source": [
    "dendrogram(margings)\n",
    "plt.show()"
   ]
  },
  {
   "cell_type": "code",
   "execution_count": null,
   "id": "6bc650ad",
   "metadata": {},
   "outputs": [],
   "source": []
  }
 ],
 "metadata": {
  "kernelspec": {
   "display_name": "Python 3 (ipykernel)",
   "language": "python",
   "name": "python3"
  },
  "language_info": {
   "codemirror_mode": {
    "name": "ipython",
    "version": 3
   },
   "file_extension": ".py",
   "mimetype": "text/x-python",
   "name": "python",
   "nbconvert_exporter": "python",
   "pygments_lexer": "ipython3",
   "version": "3.9.13"
  }
 },
 "nbformat": 4,
 "nbformat_minor": 5
}
