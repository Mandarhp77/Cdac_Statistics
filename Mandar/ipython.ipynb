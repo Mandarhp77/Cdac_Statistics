{
 "cells": [
  {
   "cell_type": "code",
   "execution_count": 3,
   "id": "af105afb",
   "metadata": {},
   "outputs": [],
   "source": [
    "import pandas as pd\n",
    "import numpy as np\n",
    "import matplotlib.pyplot as plt\n",
    "import seaborn as sns\n",
    "import ipywidgets as widgets\n",
    "import os"
   ]
  },
  {
   "cell_type": "code",
   "execution_count": 5,
   "id": "d63a3bad",
   "metadata": {},
   "outputs": [
    {
     "name": "stdout",
     "output_type": "stream",
     "text": [
      "<class 'pandas.core.frame.DataFrame'>\n",
      "RangeIndex: 93 entries, 0 to 92\n",
      "Data columns (total 26 columns):\n",
      " #   Column              Non-Null Count  Dtype  \n",
      "---  ------              --------------  -----  \n",
      " 0   Manufacturer        93 non-null     object \n",
      " 1   Model               93 non-null     object \n",
      " 2   Type                93 non-null     object \n",
      " 3   Min.Price           93 non-null     float64\n",
      " 4   Price               93 non-null     float64\n",
      " 5   Max.Price           93 non-null     float64\n",
      " 6   MPG.city            93 non-null     int64  \n",
      " 7   MPG.highway         93 non-null     int64  \n",
      " 8   AirBags             93 non-null     object \n",
      " 9   DriveTrain          93 non-null     object \n",
      " 10  Cylinders           93 non-null     object \n",
      " 11  EngineSize          93 non-null     float64\n",
      " 12  Horsepower          93 non-null     int64  \n",
      " 13  RPM                 93 non-null     int64  \n",
      " 14  Rev.per.mile        93 non-null     int64  \n",
      " 15  Man.trans.avail     93 non-null     object \n",
      " 16  Fuel.tank.capacity  93 non-null     float64\n",
      " 17  Passengers          93 non-null     int64  \n",
      " 18  Length              93 non-null     int64  \n",
      " 19  Wheelbase           93 non-null     int64  \n",
      " 20  Width               93 non-null     int64  \n",
      " 21  Turn.circle         93 non-null     int64  \n",
      " 22  Rear.seat.room      91 non-null     float64\n",
      " 23  Luggage.room        82 non-null     float64\n",
      " 24  Weight              93 non-null     int64  \n",
      " 25  Origin              93 non-null     object \n",
      "dtypes: float64(7), int64(11), object(8)\n",
      "memory usage: 19.0+ KB\n"
     ]
    }
   ],
   "source": [
    "df = pd.read_csv(\"cars93.csv\")\n",
    "df.info()"
   ]
  },
  {
   "cell_type": "code",
   "execution_count": 24,
   "id": "faa7b20a",
   "metadata": {},
   "outputs": [
    {
     "data": {
      "image/png": "[encoded data removed]",
      "text/plain": [
       "<Figure size 640x480 with 1 Axes>"
      ]
     },
     "metadata": {},
     "output_type": "display_data"
    }
   ],
   "source": [
    "def cust_hist(classes):\n",
    "    sns.histplot(data=df, x='Price', bins=classes)\n",
    "    plt.show()\n",
    "cust_hist(classes=20)"
   ]
  },
  {
   "cell_type": "code",
   "execution_count": 19,
   "id": "c1513313",
   "metadata": {},
   "outputs": [
    {
     "data": {
      "application/vnd.jupyter.widget-view+json": {
       "model_id": "b493ddd1cc8f4705876b3c9e3202ea68",
       "version_major": 2,
       "version_minor": 0
      },
      "text/plain": [
       "interactive(children=(IntSlider(value=7, description='classes', max=10, min=5, step=2), Output()), _dom_classe…"
      ]
     },
     "metadata": {},
     "output_type": "display_data"
    },
    {
     "data": {
      "text/plain": [
       "<function __main__.cust_hist(classes)>"
      ]
     },
     "execution_count": 19,
     "metadata": {},
     "output_type": "execute_result"
    }
   ],
   "source": [
    "widgets.interact(cust_hist, classes=(5,10,2))"
   ]
  },
  {
   "cell_type": "code",
   "execution_count": 21,
   "id": "d703159d",
   "metadata": {},
   "outputs": [
    {
     "data": {
      "application/vnd.jupyter.widget-view+json": {
       "model_id": "9cc59025065b4d34ba6e27f16f7a8949",
       "version_major": 2,
       "version_minor": 0
      },
      "text/plain": [
       "interactive(children=(Dropdown(description='classes', options=(5, 10, 15, 20), value=5), Output()), _dom_class…"
      ]
     },
     "metadata": {},
     "output_type": "display_data"
    },
    {
     "data": {
      "text/plain": [
       "<function __main__.cust_hist(classes)>"
      ]
     },
     "execution_count": 21,
     "metadata": {},
     "output_type": "execute_result"
    }
   ],
   "source": [
    "widgets.interact(cust_hist, classes=[5,10,15,20])"
   ]
  },
  {
   "cell_type": "code",
   "execution_count": 75,
   "id": "967bb0b7",
   "metadata": {},
   "outputs": [
    {
     "data": {
      "application/vnd.jupyter.widget-view+json": {
       "model_id": "1cdd23417d1c41b38ff0762ed1d6de85",
       "version_major": 2,
       "version_minor": 0
      },
      "text/plain": [
       "interactive(children=(Dropdown(description='variable', options=('Price', 'EngineSize', 'Wheelbase', 'Horsepowe…"
      ]
     },
     "metadata": {},
     "output_type": "display_data"
    }
   ],
   "source": [
    "def hist(variable):\n",
    "    sns.histplot(data=df, x=variable)\n",
    "#hist(\"EngineSize\",10)\n",
    "\n",
    "widgets.interact(hist, variable=[\"Price\",\"EngineSize\",\"Wheelbase\",\"Horsepower\"], classes=(5,20,2))\n",
    "plt.show()"
   ]
  },
  {
   "cell_type": "code",
   "execution_count": 53,
   "id": "32838d2e",
   "metadata": {},
   "outputs": [
    {
     "name": "stdout",
     "output_type": "stream",
     "text": [
      "<class 'pandas.core.frame.DataFrame'>\n",
      "RangeIndex: 93 entries, 0 to 92\n",
      "Data columns (total 26 columns):\n",
      " #   Column              Non-Null Count  Dtype  \n",
      "---  ------              --------------  -----  \n",
      " 0   Manufacturer        93 non-null     object \n",
      " 1   Model               93 non-null     object \n",
      " 2   Type                93 non-null     object \n",
      " 3   Min.Price           93 non-null     float64\n",
      " 4   Price               93 non-null     float64\n",
      " 5   Max.Price           93 non-null     float64\n",
      " 6   MPG.city            93 non-null     int64  \n",
      " 7   MPG.highway         93 non-null     int64  \n",
      " 8   AirBags             93 non-null     object \n",
      " 9   DriveTrain          93 non-null     object \n",
      " 10  Cylinders           93 non-null     object \n",
      " 11  EngineSize          93 non-null     float64\n",
      " 12  Horsepower          93 non-null     int64  \n",
      " 13  RPM                 93 non-null     int64  \n",
      " 14  Rev.per.mile        93 non-null     int64  \n",
      " 15  Man.trans.avail     93 non-null     object \n",
      " 16  Fuel.tank.capacity  93 non-null     float64\n",
      " 17  Passengers          93 non-null     int64  \n",
      " 18  Length              93 non-null     int64  \n",
      " 19  Wheelbase           93 non-null     int64  \n",
      " 20  Width               93 non-null     int64  \n",
      " 21  Turn.circle         93 non-null     int64  \n",
      " 22  Rear.seat.room      91 non-null     float64\n",
      " 23  Luggage.room        82 non-null     float64\n",
      " 24  Weight              93 non-null     int64  \n",
      " 25  Origin              93 non-null     object \n",
      "dtypes: float64(7), int64(11), object(8)\n",
      "memory usage: 19.0+ KB\n"
     ]
    }
   ],
   "source": [
    "df.info()"
   ]
  },
  {
   "cell_type": "code",
   "execution_count": 55,
   "id": "bc5c7fae",
   "metadata": {},
   "outputs": [
    {
     "data": {
      "text/plain": [
       "Index(['Min.Price', 'Price', 'Max.Price', 'MPG.city', 'MPG.highway',\n",
       "       'EngineSize', 'Horsepower', 'RPM', 'Rev.per.mile', 'Fuel.tank.capacity',\n",
       "       'Passengers', 'Length', 'Wheelbase', 'Width', 'Turn.circle',\n",
       "       'Rear.seat.room', 'Luggage.room', 'Weight'],\n",
       "      dtype='object')"
      ]
     },
     "execution_count": 55,
     "metadata": {},
     "output_type": "execute_result"
    }
   ],
   "source": []
  },
  {
   "cell_type": "code",
   "execution_count": 63,
   "id": "c74d73ae",
   "metadata": {},
   "outputs": [],
   "source": [
    "xvar=['Min.Price', 'Price', 'Max.Price', 'MPG.city', 'MPG.highway',\n",
    "       'EngineSize', 'Horsepower', 'RPM', 'Rev.per.mile', 'Fuel.tank.capacity',\n",
    "       'Passengers', 'Length', 'Wheelbase', 'Width', 'Turn.circle',\n",
    "       'Rear.seat.room', 'Luggage.room', 'Weight']\n",
    "\n",
    "yvar=['Min.Price', 'Price', 'Max.Price', 'MPG.city', 'MPG.highway',\n",
    "       'EngineSize', 'Horsepower', 'RPM', 'Rev.per.mile', 'Fuel.tank.capacity',\n",
    "       'Passengers', 'Length', 'Wheelbase', 'Width', 'Turn.circle',\n",
    "       'Rear.seat.room', 'Luggage.room', 'Weight']"
   ]
  },
  {
   "cell_type": "code",
   "execution_count": 76,
   "id": "7248b25f",
   "metadata": {},
   "outputs": [],
   "source": [
    "def scatter(X, Y, Colour):\n",
    "    sns.scatterplot(data=df, x=X, y=Y, hue=Colour)\n",
    "    plt.show"
   ]
  },
  {
   "cell_type": "code",
   "execution_count": 77,
   "id": "ad683af0",
   "metadata": {},
   "outputs": [
    {
     "data": {
      "text/plain": [
       "Index(['Min.Price', 'Price', 'Max.Price', 'MPG.city', 'MPG.highway',\n",
       "       'EngineSize', 'Horsepower', 'RPM', 'Rev.per.mile', 'Fuel.tank.capacity',\n",
       "       'Passengers', 'Length', 'Wheelbase', 'Width', 'Turn.circle',\n",
       "       'Rear.seat.room', 'Luggage.room', 'Weight'],\n",
       "      dtype='object')"
      ]
     },
     "execution_count": 77,
     "metadata": {},
     "output_type": "execute_result"
    }
   ],
   "source": [
    "df.select_dtypes(include=\"number\").columns"
   ]
  },
  {
   "cell_type": "code",
   "execution_count": 78,
   "id": "3c651287",
   "metadata": {},
   "outputs": [],
   "source": [
    "num= df.select_dtypes(include=\"number\").columns\n",
    "cat= df.select_dtypes(exclude=\"number\").columns"
   ]
  },
  {
   "cell_type": "code",
   "execution_count": 80,
   "id": "84f011e1",
   "metadata": {},
   "outputs": [
    {
     "data": {
      "application/vnd.jupyter.widget-view+json": {
       "model_id": "2ce7209eeca547cc8d1e5e569ab55ac2",
       "version_major": 2,
       "version_minor": 0
      },
      "text/plain": [
       "interactive(children=(Dropdown(description='X', options=('Min.Price', 'Price', 'Max.Price', 'MPG.city', 'MPG.h…"
      ]
     },
     "metadata": {},
     "output_type": "display_data"
    }
   ],
   "source": [
    "widgets.interact(scatter, X=num, Y=cat, Colour = cat)\n",
    "plt.show()"
   ]
  },
  {
   "cell_type": "code",
   "execution_count": 106,
   "id": "e624a1f0",
   "metadata": {},
   "outputs": [],
   "source": [
    "def box(X,Y):\n",
    "    sns.boxplot(data=df, x=X, y=Y)"
   ]
  },
  {
   "cell_type": "code",
   "execution_count": 107,
   "id": "b72b499f",
   "metadata": {},
   "outputs": [],
   "source": [
    "num= df.select_dtypes(include=\"number\").columns\n",
    "cat= df.select_dtypes(exclude=\"number\").columns"
   ]
  },
  {
   "cell_type": "code",
   "execution_count": 109,
   "id": "dcf26de5",
   "metadata": {},
   "outputs": [
    {
     "data": {
      "application/vnd.jupyter.widget-view+json": {
       "model_id": "dca260403ed94604bec0ae09a0f56177",
       "version_major": 2,
       "version_minor": 0
      },
      "text/plain": [
       "interactive(children=(Dropdown(description='X', options=('Manufacturer', 'Model', 'Type', 'AirBags', 'DriveTra…"
      ]
     },
     "metadata": {},
     "output_type": "display_data"
    }
   ],
   "source": [
    "widgets.interact(box,X=cat, Y=num)\n",
    "plt.show()"
   ]
  },
  {
   "cell_type": "code",
   "execution_count": 147,
   "id": "c9c6f936",
   "metadata": {},
   "outputs": [],
   "source": [
    "def matbar(categ):\n",
    "    a=df[categ].value_counts()\n",
    "    a.plot(kind='bar')"
   ]
  },
  {
   "cell_type": "code",
   "execution_count": 148,
   "id": "dd0b3577",
   "metadata": {},
   "outputs": [
    {
     "data": {
      "application/vnd.jupyter.widget-view+json": {
       "model_id": "ae6b5f26f7744a819ad1a5915e75f875",
       "version_major": 2,
       "version_minor": 0
      },
      "text/plain": [
       "interactive(children=(Dropdown(description='categ', options=('Manufacturer', 'Model', 'Type', 'AirBags', 'Driv…"
      ]
     },
     "metadata": {},
     "output_type": "display_data"
    }
   ],
   "source": [
    "widgets.interact(matbar,categ=cat)\n",
    "plt.show()"
   ]
  },
  {
   "cell_type": "code",
   "execution_count": 188,
   "id": "1dfff41a",
   "metadata": {},
   "outputs": [
    {
     "name": "stdout",
     "output_type": "stream",
     "text": [
      "Index(['Min.Price', 'Price', 'Max.Price', 'MPG.city', 'MPG.highway',\n",
      "       'EngineSize', 'Horsepower', 'RPM', 'Rev.per.mile', 'Fuel.tank.capacity',\n",
      "       'Passengers', 'Length', 'Wheelbase', 'Width', 'Turn.circle',\n",
      "       'Rear.seat.room', 'Luggage.room', 'Weight'],\n",
      "      dtype='object')\n"
     ]
    }
   ],
   "source": [
    "num= df.select_dtypes(include=\"number\").columns\n",
    "print(num)"
   ]
  },
  {
   "cell_type": "code",
   "execution_count": 186,
   "id": "35f593f0",
   "metadata": {},
   "outputs": [],
   "source": [
    "def plots(variable, type, classes):\n",
    "    if(type==\"Histogram\"):\n",
    "        sns.histplot(data=df, x=variable, bins = classes)\n",
    "    \n",
    "    elif(type ==\"Distplot\"):\n",
    "        sns.kdeplot(data=df, x=variable)\n",
    "        \n",
    "    elif(type ==\"Boxplot\"):\n",
    "        sns.boxplot(data = df, y=variable)"
   ]
  },
  {
   "cell_type": "code",
   "execution_count": 187,
   "id": "315774c5",
   "metadata": {},
   "outputs": [
    {
     "data": {
      "application/vnd.jupyter.widget-view+json": {
       "model_id": "eca0a3f90e2d42fd8cde2a653b6db3d5",
       "version_major": 2,
       "version_minor": 0
      },
      "text/plain": [
       "interactive(children=(Dropdown(description='variable', options=('Min.Price', 'Price', 'Max.Price', 'MPG.city',…"
      ]
     },
     "metadata": {},
     "output_type": "display_data"
    }
   ],
   "source": [
    "widgets.interact(plots, variable=num, type=[\"Histogram\",\"Distplot\",\"Boxplot\"], classes=(4,20,2))\n",
    "plt.show()"
   ]
  },
  {
   "cell_type": "code",
   "execution_count": null,
   "id": "e288f677",
   "metadata": {},
   "outputs": [],
   "source": []
  }
 ],
 "metadata": {
  "kernelspec": {
   "display_name": "Python 3 (ipykernel)",
   "language": "python",
   "name": "python3"
  },
  "language_info": {
   "codemirror_mode": {
    "name": "ipython",
    "version": 3
   },
   "file_extension": ".py",
   "mimetype": "text/x-python",
   "name": "python",
   "nbconvert_exporter": "python",
   "pygments_lexer": "ipython3",
   "version": "3.9.13"
  }
 },
 "nbformat": 4,
 "nbformat_minor": 5
}
